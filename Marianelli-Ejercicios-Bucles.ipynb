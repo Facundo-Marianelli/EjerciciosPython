{
 "cells": [
  {
   "cell_type": "markdown",
   "metadata": {},
   "source": [
    "# Ejercicios de Bucles"
   ]
  },
  {
   "cell_type": "markdown",
   "metadata": {},
   "source": [
    "## Ejercicio 1"
   ]
  },
  {
   "cell_type": "markdown",
   "metadata": {},
   "source": [
    "Escribir un programa que pida al usuario una palabra y la muestre por pantalla 10 veces."
   ]
  },
  {
   "cell_type": "code",
   "execution_count": 1,
   "metadata": {},
   "outputs": [
    {
     "name": "stdout",
     "output_type": "stream",
     "text": [
      "ingrese la palabraFacundo\n",
      "Facundo\n",
      "Facundo\n",
      "Facundo\n",
      "Facundo\n",
      "Facundo\n",
      "Facundo\n",
      "Facundo\n",
      "Facundo\n",
      "Facundo\n",
      "Facundo\n"
     ]
    }
   ],
   "source": [
    "palabra=input(\"ingrese la palabra\")\n",
    "n=0\n",
    "while n<10:\n",
    "    print(palabra)\n",
    "    n=n+1"
   ]
  },
  {
   "cell_type": "markdown",
   "metadata": {},
   "source": [
    "## Ejercicio 2"
   ]
  },
  {
   "cell_type": "markdown",
   "metadata": {},
   "source": [
    "Escribir un programa que pregunte al usuario su edad y muestre por pantalla todos los años que ha cumplido (desde 1 hasta su edad)."
   ]
  },
  {
   "cell_type": "code",
   "execution_count": null,
   "metadata": {},
   "outputs": [],
   "source": [
    "edad=int(input(\"ingresar edad\"))\n",
    "n=1\n",
    "while edad<0:\n",
    "    print(\"debe ingresar una edad valida y mayor a 0 \")\n",
    "    edad=int(input(\"ingresar edad\"))\n",
    "while n<edad:\n",
    "    print(\"el usuario cumplio un año mas\")\n",
    "    n=n+1\n",
    "print(\"el total de años que cumplio:\",n)"
   ]
  },
  {
   "cell_type": "markdown",
   "metadata": {},
   "source": [
    "## Ejercicio 3"
   ]
  },
  {
   "cell_type": "markdown",
   "metadata": {},
   "source": [
    "Escribir un programa que pida al usuario un número entero positivo y muestre por pantalla todos los números impares desde 1 hasta ese número separados por comas."
   ]
  },
  {
   "cell_type": "code",
   "execution_count": null,
   "metadata": {},
   "outputs": [],
   "source": [
    "num=int(input(\"ingresar numero\"))\n",
    "n=1\n",
    "numImpares=\"\"\n",
    "while num<0:\n",
    "    print(\"Debe ingresar un numero POSITIVO\")\n",
    "    num=int(input(\"ingresar numero\"))\n",
    "while n<num:\n",
    "    if n%2!=:\n",
    "        numImpares=numImpares+\",\"+str(n)\n",
    "    n=n+1\n",
    "print(numImpares)"
   ]
  },
  {
   "cell_type": "markdown",
   "metadata": {},
   "source": [
    "## Ejercicio 4"
   ]
  },
  {
   "cell_type": "markdown",
   "metadata": {},
   "source": [
    "Escribir un programa que pida al usuario un número entero positivo y muestre por pantalla la cuenta atrás desde ese número hasta cero separados por comas."
   ]
  },
  {
   "cell_type": "code",
   "execution_count": 4,
   "metadata": {},
   "outputs": [
    {
     "name": "stdout",
     "output_type": "stream",
     "text": [
      "ingresar numero45\n",
      "45, 44, 43, 42, 41, 40, 39, 38, 37, 36, 35, 34, 33, 32, 31, 30, 29, 28, 27, 26, 25, 24, 23, 22, 21, 20, 19, 18, 17, 16, 15, 14, 13, 12, 11, 10, 9, 8, 7, 6, 5, 4, 3, 2, 1, "
     ]
    }
   ],
   "source": [
    "\n",
    "num=int(input(\"ingresar numero\"))\n",
    "while num<0:\n",
    "    print(\"debe ingresar un numero positivo\")\n",
    "    num=int(input(\"Ingresar numero\"))\n",
    "while num!=0:\n",
    "    print(num, end=\", \")\n",
    "    num=num-1"
   ]
  },
  {
   "cell_type": "markdown",
   "metadata": {},
   "source": [
    "## Ejercicio 5"
   ]
  },
  {
   "cell_type": "markdown",
   "metadata": {},
   "source": [
    "Escribir un programa que pregunte al usuario una cantidad a invertir, el interés anual y el número de años, y muestre por pantalla el capital obtenido en la inversión cada año que dura la inversión."
   ]
  },
  {
   "cell_type": "code",
   "execution_count": 7,
   "metadata": {},
   "outputs": [
    {
     "name": "stdout",
     "output_type": "stream",
     "text": [
      "ingresar cant a invertir100\n",
      "ingrese interes anual40\n",
      "Ingrese numeros de año a invertir2\n",
      "80.0\n"
     ]
    }
   ],
   "source": [
    "cantAInvertir=int(input(\"ingresar cant a invertir\"))\n",
    "interesAnual=int(input(\"ingrese interes anual\"))\n",
    "numAños=int(input(\"Ingrese numeros de año a invertir\"))\n",
    "n=0\n",
    "total=0\n",
    "while n<numAños:\n",
    "    total=total+(cantAInvertir*interesAnual/100)\n",
    "    n=n+1\n",
    "print(total)"
   ]
  },
  {
   "cell_type": "markdown",
   "metadata": {},
   "source": [
    "## Ejercicio 6"
   ]
  },
  {
   "cell_type": "markdown",
   "metadata": {},
   "source": [
    "Escribir un programa que pida al usuario un número entero y muestre por pantalla un triángulo rectángulo como el de más abajo, de altura el número introducido.\n",
    "<pre><code>*\n",
    "**\n",
    "***\n",
    "****\n",
    "*****\n",
    "</code></pre>"
   ]
  },
  {
   "cell_type": "code",
   "execution_count": 8,
   "metadata": {},
   "outputs": [
    {
     "name": "stdout",
     "output_type": "stream",
     "text": [
      "Ingresar altura12\n",
      "*\n",
      "**\n",
      "***\n",
      "****\n",
      "*****\n",
      "******\n",
      "*******\n",
      "********\n",
      "*********\n",
      "**********\n",
      "***********\n"
     ]
    }
   ],
   "source": [
    "num=int(input(\"Ingresar altura\"))\n",
    "n=1\n",
    "ast=\"*\"\n",
    "while n<num:\n",
    "    print(n*ast)\n",
    "    n=n+1"
   ]
  },
  {
   "cell_type": "markdown",
   "metadata": {},
   "source": [
    "## Ejercicio 7"
   ]
  },
  {
   "cell_type": "markdown",
   "metadata": {},
   "source": [
    "Escribir un programa que muestre por pantalla la tabla de multiplicar del 1 al 10."
   ]
  },
  {
   "cell_type": "code",
   "execution_count": 42,
   "metadata": {},
   "outputs": [
    {
     "name": "stdout",
     "output_type": "stream",
     "text": [
      "10 multiplicado por 0 es: 0\n",
      "10 multiplicado por 1 es: 10\n",
      "10 multiplicado por 2 es: 20\n",
      "10 multiplicado por 3 es: 30\n",
      "10 multiplicado por 4 es: 40\n",
      "10 multiplicado por 5 es: 50\n",
      "10 multiplicado por 6 es: 60\n",
      "10 multiplicado por 7 es: 70\n",
      "10 multiplicado por 8 es: 80\n",
      "10 multiplicado por 9 es: 90\n",
      "10 multiplicado por 10 es: 100\n"
     ]
    }
   ],
   "source": [
    "\n",
    "for i in range(10+1):\n",
    "    resultado=i*10\n",
    "    print(\"10 multiplicado por\",i,\"es:\",resultado)"
   ]
  },
  {
   "cell_type": "markdown",
   "metadata": {},
   "source": [
    "## Ejercicio 8"
   ]
  },
  {
   "cell_type": "markdown",
   "metadata": {},
   "source": [
    "Escribir un programa que pida al usuario un número entero y muestre por pantalla un triángulo rectángulo como el de más abajo.\n",
    "<pre><code>1\n",
    "3 1\n",
    "5 3 1\n",
    "7 5 3 1\n",
    "9 7 5 3 1\n",
    "</code></pre>"
   ]
  },
  {
   "cell_type": "code",
   "execution_count": 40,
   "metadata": {},
   "outputs": [
    {
     "name": "stdout",
     "output_type": "stream",
     "text": [
      "ingresar numero entero7\n",
      "1 \n",
      "\n",
      "3 1 \n",
      "\n",
      "5 3 1 \n",
      "\n",
      "7 5 3 1 \n",
      "\n",
      "9 7 5 3 1 \n",
      "\n",
      "11 9 7 5 3 1 \n",
      "\n",
      "13 11 9 7 5 3 1 \n",
      "\n"
     ]
    }
   ],
   "source": [
    "num=int(input(\"ingresar numero entero\"))\n",
    "for i in range(num):\n",
    "    for j in range((i*2)+1,0,-2):\n",
    "        print(j,end=\" \")\n",
    "    print(\"\\n\")"
   ]
  },
  {
   "cell_type": "markdown",
   "metadata": {},
   "source": [
    "## Ejercicio 9"
   ]
  },
  {
   "cell_type": "markdown",
   "metadata": {},
   "source": [
    "Escribir un programa que almacene la cadena de caracteres <font color=#B40431>contraseña</font> en una variable, pregunte al usuario por la contraseña hasta que introduzca la contraseña correcta."
   ]
  },
  {
   "cell_type": "code",
   "execution_count": 13,
   "metadata": {},
   "outputs": [
    {
     "name": "stdout",
     "output_type": "stream",
     "text": [
      "Ingrese su contraseñaasd\n",
      "la contraseña no coindicen\n",
      "Ingrese su nueva contraseñafe\n",
      "la contraseña no coindicen\n",
      "Ingrese su nueva contraseñaFacu13\n",
      "Contraseña correcta\n"
     ]
    }
   ],
   "source": [
    "contraseñaAlmacenada=\"Facu13\"\n",
    "contraseñaIngresada=input(\"Ingrese su contraseña\")\n",
    "while contraseñaAlmacenada!=contraseñaIngresada:\n",
    "    print(\"la contraseña no coindicen\")\n",
    "    cont=input(\"Ingrese su nueva contraseña\")\n",
    "print(\"Contraseña correcta\")"
   ]
  },
  {
   "cell_type": "markdown",
   "metadata": {},
   "source": [
    "## Ejercicio 10"
   ]
  },
  {
   "cell_type": "markdown",
   "metadata": {},
   "source": [
    "Escribir un programa que pida al usuario un número entero y muestre por pantalla si es un número primo o no."
   ]
  },
  {
   "cell_type": "code",
   "execution_count": 19,
   "metadata": {},
   "outputs": [
    {
     "name": "stdout",
     "output_type": "stream",
     "text": [
      "Ingresar numero entero7\n",
      "El numero 7 Es primo\n"
     ]
    }
   ],
   "source": [
    "numEntero=int(input(\"Ingresar numero entero\"))\n",
    "n=1\n",
    "condic=0\n",
    "while n<=numEntero:\n",
    "    if numEntero%n==0:\n",
    "        condic=condic+1\n",
    "    n=n+1\n",
    "if condic==2:\n",
    "    print(\"El numero\",numEntero,\"Es primo\")\n",
    "else:\n",
    "    print(\"El numero\",numEntero,\"No es primo\")\n",
    "    "
   ]
  },
  {
   "cell_type": "markdown",
   "metadata": {},
   "source": [
    "## Ejercicio 11"
   ]
  },
  {
   "cell_type": "markdown",
   "metadata": {},
   "source": [
    "Escribir un programa que pida al usuario una palabra y luego muestre por pantalla una a una las letras de la palabra introducida empezando por la última."
   ]
  },
  {
   "cell_type": "code",
   "execution_count": 30,
   "metadata": {},
   "outputs": [
    {
     "name": "stdout",
     "output_type": "stream",
     "text": [
      "ingrese palabrafacundo\n",
      "odnucaf"
     ]
    }
   ],
   "source": [
    "palabra=input(\"ingrese palabra\")\n",
    "long=(len(palabra)-1)\n",
    "while long!=-1:\n",
    "    valor=palabra[long]\n",
    "    print(valor, end=\"\")\n",
    "    long=long-1"
   ]
  },
  {
   "cell_type": "markdown",
   "metadata": {},
   "source": [
    "## Ejercicio 12"
   ]
  },
  {
   "cell_type": "markdown",
   "metadata": {},
   "source": [
    "Escribir un programa en el que se pregunte al usuario por una frase y una letra, y muestre por pantalla el número de veces que aparece la letra en la frase."
   ]
  },
  {
   "cell_type": "code",
   "execution_count": 33,
   "metadata": {},
   "outputs": [
    {
     "name": "stdout",
     "output_type": "stream",
     "text": [
      "ingresar frasefacando me gusta comer\n",
      "Ingresar letraa\n",
      "la letra: a aparece: 3 veces en la frase : facando me gusta comer\n"
     ]
    }
   ],
   "source": [
    "frase=input(\"ingresar frase\")\n",
    "letra=input(\"Ingresar letra\")\n",
    "n=0\n",
    "cont=0\n",
    "while n<len(frase):\n",
    "    valor=frase[n]\n",
    "    if valor==letra:\n",
    "        cont=cont+1\n",
    "    n=n+1\n",
    "print(\"la letra:\",letra,\"aparece:\",cont,\"veces\",\"en la frase :\", frase)"
   ]
  },
  {
   "cell_type": "markdown",
   "metadata": {},
   "source": [
    "## Ejercicio 13"
   ]
  },
  {
   "cell_type": "markdown",
   "metadata": {},
   "source": [
    "Escribir un programa que muestre el eco de todo lo que el usuario introduzca hasta que el usuario escriba “salir” que terminará."
   ]
  },
  {
   "cell_type": "code",
   "execution_count": 35,
   "metadata": {},
   "outputs": [
    {
     "name": "stdout",
     "output_type": "stream",
     "text": [
      "Ingresar lo que quiere mostrarfac\n",
      "fac\n",
      "ingresar nuevamente lo que quiere mostrarasd\n",
      "asd\n",
      "ingresar nuevamente lo que quiere mostrarsalir\n",
      "usted decidio salir\n"
     ]
    }
   ],
   "source": [
    "introducir=input(\"Ingresar lo que quiere mostrar\")\n",
    "while introducir!=\"salir\":\n",
    "    print(introducir)\n",
    "    introducir=input(\"ingresar nuevamente lo que quiere mostrar\")\n",
    "print(\"usted decidio salir\")"
   ]
  },
  {
   "cell_type": "code",
   "execution_count": null,
   "metadata": {},
   "outputs": [],
   "source": []
  }
 ],
 "metadata": {
  "kernelspec": {
   "display_name": "Python 3",
   "language": "python",
   "name": "python3"
  },
  "language_info": {
   "codemirror_mode": {
    "name": "ipython",
    "version": 3
   },
   "file_extension": ".py",
   "mimetype": "text/x-python",
   "name": "python",
   "nbconvert_exporter": "python",
   "pygments_lexer": "ipython3",
   "version": "3.8.3"
  }
 },
 "nbformat": 4,
 "nbformat_minor": 2
}
