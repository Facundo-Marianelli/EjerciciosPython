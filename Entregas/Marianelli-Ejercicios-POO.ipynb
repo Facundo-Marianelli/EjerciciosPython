{
 "cells": [
  {
   "cell_type": "markdown",
   "metadata": {},
   "source": [
    "# Ejercicios de Programación Orientada a Objetos"
   ]
  },
  {
   "cell_type": "markdown",
   "metadata": {},
   "source": [
    "**Nota:** Los ejercicios son graduales, es decir, en cada ejercicio se van implementando mejoras a una (o varias) clase(s)."
   ]
  },
  {
   "cell_type": "markdown",
   "metadata": {},
   "source": [
    "## Ejercicio 1"
   ]
  },
  {
   "cell_type": "markdown",
   "metadata": {},
   "source": [
    "Crear una nueva clase llamada **NumeroComplejo**. Esta clase tiene un atributo **x** para la coordenada en x e **y** para la coordenada en y. Representar un número complejo de la forma (x, y)."
   ]
  },
  {
   "cell_type": "code",
   "execution_count": 91,
   "metadata": {},
   "outputs": [
    {
     "name": "stdout",
     "output_type": "stream",
     "text": [
      "(12, 3)\n"
     ]
    }
   ],
   "source": [
    "class NumeroComplejo:\n",
    "    def __init__(self,x,y):\n",
    "        self.x=x\n",
    "        self.y=y\n",
    "    def mostrar(self):\n",
    "        return(self.x,self.y)\n",
    "llamada=NumeroComplejo(12,3)\n",
    "print(llamada.mostrar())"
   ]
  },
  {
   "cell_type": "markdown",
   "metadata": {},
   "source": [
    "#### Ejercicio 2"
   ]
  },
  {
   "cell_type": "markdown",
   "metadata": {},
   "source": [
    "Definir para la clase **NumeroComplejo** un método que permita imprimir una instancia de la clase. Recordemos que al intentar imprimir un tipo definido por nosotros, se imprime la dirección de memoria"
   ]
  },
  {
   "cell_type": "code",
   "execution_count": 92,
   "metadata": {},
   "outputs": [
    {
     "name": "stdout",
     "output_type": "stream",
     "text": [
      "2\n",
      "3\n"
     ]
    }
   ],
   "source": [
    "class NumeroComplejo:\n",
    "    def __init__(self,x,y):\n",
    "        self.x=x\n",
    "        self.y=y\n",
    "    def mostrar(self):\n",
    "        return(self.x,self.y)\n",
    "    def imprimir(self):\n",
    "        print(str(self.x))\n",
    "        print(str(self.y))\n",
    "llamo=NumeroComplejo(2,3)\n",
    "llamo.imprimir()"
   ]
  },
  {
   "cell_type": "markdown",
   "metadata": {},
   "source": [
    "## Ejercicio 3"
   ]
  },
  {
   "cell_type": "markdown",
   "metadata": {},
   "source": [
    "Definir la función **__str__** para la clase **NumeroComplejo** para poder imprimir usando la función print."
   ]
  },
  {
   "cell_type": "code",
   "execution_count": 62,
   "metadata": {},
   "outputs": [
    {
     "name": "stdout",
     "output_type": "stream",
     "text": [
      "usted ingreso en X: 12 y en Y: 3\n"
     ]
    }
   ],
   "source": [
    "class NumeroComplejo:\n",
    "    def __init__(self,x,y):\n",
    "        self.x=x\n",
    "        self.y=y\n",
    "    def __str__(self):\n",
    "        print(\"usted ingreso en X:\",self.x,\"y en Y:\",self.y)\n",
    "llamada=NumeroComplejo(12,3)\n",
    "llamada.__str__()"
   ]
  },
  {
   "cell_type": "markdown",
   "metadata": {},
   "source": [
    "## Ejercicio 4"
   ]
  },
  {
   "cell_type": "markdown",
   "metadata": {},
   "source": [
    "Definir una función que compara dos números complejos, ya que si dos objetos distintos tienen sus atributos iguales, no se consideran iguales.\n"
   ]
  },
  {
   "cell_type": "code",
   "execution_count": 14,
   "metadata": {},
   "outputs": [
    {
     "name": "stdout",
     "output_type": "stream",
     "text": [
      "los objetos son distintos!\n"
     ]
    }
   ],
   "source": [
    "class NumeroComplejo1:\n",
    "    num=0\n",
    "    def __init__(self,num):\n",
    "        self.num=num\n",
    "    def obtenerValor1(self):\n",
    "        return self.num\n",
    "num1=NumeroComplejo1(3)\n",
    "value=num1.obtenerValor1()\n",
    "num2=NumeroComplejo1(5)\n",
    "value2=num2.obtenerValor1()\n",
    "def comparacion(Valor1,Valor2):\n",
    "    if Valor1==Valor2:\n",
    "        print(\"los objetos son iguales!\")\n",
    "    else:\n",
    "        print(\"los objetos son distintos!\")\n",
    "comparacion(value,value2)"
   ]
  },
  {
   "cell_type": "markdown",
   "metadata": {},
   "source": [
    "## Ejercicio 5"
   ]
  },
  {
   "cell_type": "markdown",
   "metadata": {},
   "source": [
    "Implementar un método que sume dos numeros complejos sin modificiar los objetos originales, ya que se retorna un nuevo numero NumeroComplejo."
   ]
  },
  {
   "cell_type": "code",
   "execution_count": 74,
   "metadata": {},
   "outputs": [
    {
     "name": "stdout",
     "output_type": "stream",
     "text": [
      "(7, 7)\n"
     ]
    }
   ],
   "source": [
    "class NumerosComplejos:\n",
    "    def __init__(self,x,y):\n",
    "        self.x=x\n",
    "        self.y=y\n",
    "    def imprimir(self):\n",
    "        print(\"El valor de x es: \" + str(self.x))\n",
    "        print(\"El valor de y es: \" + str(self.y))\n",
    "    def __str__(self):\n",
    "        return \"(\" + str(self.x) + \", \" + str(self.y) + \")\"\n",
    "    def soniguales(self,c2):\n",
    "        if self.x==c2.x and self.y==c2.y:\n",
    "            return True\n",
    "        return False\n",
    "    def sumaComplejos(self,c2):\n",
    "        a=self.x+c2.x\n",
    "        b=self.y+c2.y\n",
    "        return NumerosComplejos(a,b)\n",
    "nc1=NumerosComplejos(4,5)\n",
    "nc2=NumerosComplejos(3,2)\n",
    "r=nc1.sumaComplejos(nc2)\n",
    "print(r)"
   ]
  },
  {
   "cell_type": "markdown",
   "metadata": {},
   "source": [
    "Ahora, vamos a implementar un objeto **Bus**, que lleva a un grupo de pasajeros y además tiene un chofer. Los pasajeros y el chofer son todos personas, por lo que primero crearemos una clase **Persona** para representarlos."
   ]
  },
  {
   "cell_type": "markdown",
   "metadata": {},
   "source": [
    "## Ejercicio 6"
   ]
  },
  {
   "cell_type": "markdown",
   "metadata": {},
   "source": [
    "Crea una clase **Persona**. Sus atributos deben ser su nombre y su edad. Además crea un método cumpleaños, que aumente en 1 la edad de la persona."
   ]
  },
  {
   "cell_type": "code",
   "execution_count": 75,
   "metadata": {},
   "outputs": [
    {
     "name": "stdout",
     "output_type": "stream",
     "text": [
      "14\n"
     ]
    }
   ],
   "source": [
    "class Persona:\n",
    "    def __init__(self,nombre,edad):\n",
    "        self.nombre=nombre\n",
    "        self.edad=edad\n",
    "    def cumpleaños(self):\n",
    "        self.edad+=1\n",
    "        return self.edad\n",
    "Facundo=Persona(\"Facundo\",13)\n",
    "print(Facundo.cumpleaños())"
   ]
  },
  {
   "cell_type": "markdown",
   "metadata": {},
   "source": [
    "## Ejercicio 7"
   ]
  },
  {
   "cell_type": "markdown",
   "metadata": {},
   "source": [
    "Para la clase anterior definir el método __str__. Debe retornar al menos el nombre de la persona."
   ]
  },
  {
   "cell_type": "code",
   "execution_count": 77,
   "metadata": {},
   "outputs": [
    {
     "name": "stdout",
     "output_type": "stream",
     "text": [
      "Facundo\n"
     ]
    }
   ],
   "source": [
    "class Persona:\n",
    "    def __init__(self,nombre,edad):\n",
    "        self.nombre=nombre\n",
    "        self.edad=edad\n",
    "    def __str__(self):\n",
    "        return self.nombre\n",
    "    def cumpleaños(self):\n",
    "        self.edad+=1\n",
    "        return self.edad\n",
    "Facundo=Persona(\"Facundo\",13)\n",
    "print(Facundo.__str__())"
   ]
  },
  {
   "cell_type": "markdown",
   "metadata": {},
   "source": [
    "## Ejercicio 8"
   ]
  },
  {
   "cell_type": "markdown",
   "metadata": {},
   "source": [
    "Extender la aplicación anterior con una clase **Bus**. Como atributo tiene un arreglo de pasajeros (inicialmente vacío), una capacidad (se ingresa en el constructor) y un chofer. Debes implementar el método ingresar_chofer(self, persona), que recibe una persona y queda como chofer del Bus si es mayor de 18 años. Cabe destacar que el chofer no se ingresa en el constructor."
   ]
  },
  {
   "cell_type": "code",
   "execution_count": 81,
   "metadata": {},
   "outputs": [
    {
     "name": "stdout",
     "output_type": "stream",
     "text": [
      "es asignado como chofer\n",
      "19\n"
     ]
    }
   ],
   "source": [
    "#Ahora, vamos a implementar un objeto **Bus**, \n",
    "#que lleva a un grupo de pasajeros y además tiene un chofer. \n",
    "#Los pasajeros y el chofer son todos personas, por lo que primero \n",
    "#crearemos una clase **Persona** para representarlos.\n",
    "class Persona:\n",
    "    def __init__(self,nombre,edad):\n",
    "        self.nombre=nombre\n",
    "        self.edad=edad\n",
    "    def __str__(self):\n",
    "        return self.nombre\n",
    "    def cumpleaños(self):\n",
    "        self.edad+=1\n",
    "        return self.edad\n",
    "class Pasajeros(Persona):\n",
    "    def __init__(self):\n",
    "        pass\n",
    "class Chofer(Persona):\n",
    "    def __init__(self):\n",
    "        self.nombre=nombre\n",
    "    def obtenerChofer(self):\n",
    "        return self.nombre\n",
    "class Bus():\n",
    "    def __init__(self,listaPasajeros,chofer,capacidad):\n",
    "        self.listaPasajeros=[]\n",
    "        self.chofer=chofer\n",
    "        self.capacidad=capacidad\n",
    "    def ingresarChofer(self,P1):\n",
    "        edad=P1.edad\n",
    "        if edad>18:\n",
    "            print(\"es asignado como chofer\")\n",
    "            print(edad)\n",
    "        else:\n",
    "            print(\"no es asignado como chofer\")\n",
    "            print(edad)\n",
    "    def __str__(self):\n",
    "        print(self.listaPasajeros)\n",
    "        print(Chofer.str)\n",
    "        print(self.capacidad)\n",
    "\n",
    "persona1=Persona(\"Facundo\",19)\n",
    "llam1=Bus([],persona1,18)\n",
    "llam1.ingresarChofer(persona1)\n"
   ]
  },
  {
   "cell_type": "markdown",
   "metadata": {},
   "source": [
    "## Ejercicio 9"
   ]
  },
  {
   "cell_type": "markdown",
   "metadata": {},
   "source": [
    "Extender la clase **Bus** con el método **subir_pasajero(self, persona)**. Este método sube a la persona al bus (i.e. La agrega al arreglo de asientos) siempre que el número de pasajeros en el Bus sea menor que la capcidad total."
   ]
  },
  {
   "cell_type": "code",
   "execution_count": 90,
   "metadata": {},
   "outputs": [
    {
     "name": "stdout",
     "output_type": "stream",
     "text": [
      "es asignado como chofer\n",
      "20\n",
      "no puede ingresar\n",
      "no puede ingresar\n",
      "Juan\n"
     ]
    }
   ],
   "source": [
    "class Persona:\n",
    "    def __init__(self,nombre,edad):\n",
    "        self.nombre=nombre\n",
    "        self.edad=edad\n",
    "    def __str__(self):\n",
    "        return self.nombre\n",
    "    def cumpleaños(self):\n",
    "        self.edad+=1\n",
    "        return self.edad\n",
    "class Pasajeros(Persona):\n",
    "    def __init__(self):\n",
    "        pass\n",
    "class Chofer(Persona):\n",
    "    def __init__(self):\n",
    "        self.nombre=nombre\n",
    "    def obtenerChofer(self):\n",
    "        return self.nombre\n",
    "class Bus:\n",
    "    def __init__(self,listaPasajeros,chofer,capacidad):\n",
    "        self.listaPasajeros=[]\n",
    "        self.chofer=chofer\n",
    "        self.capacidad=capacidad\n",
    "    def ingresarChofer(self,P1):\n",
    "        edad=P1.edad\n",
    "        if edad>18:\n",
    "            print(\"es asignado como chofer\")\n",
    "            print(edad)\n",
    "        else:\n",
    "            print(\"no es asignado como chofer\")\n",
    "            print(edad)\n",
    "    def __str__(self):\n",
    "        print(self.listaPasajeros)\n",
    "        print(Chofer.str)\n",
    "        print(self.capacidad)\n",
    "    def ingresarChofer(self,P1):\n",
    "        edad=P1.edad\n",
    "        if edad>18:\n",
    "            print(\"es asignado como chofer\")\n",
    "            print(edad)\n",
    "        else:\n",
    "            print(\"no es asignado como chofer\")\n",
    "            print(edad)\n",
    "    def ingresarPasajeros(self,Persona):\n",
    "        if len(self.listaPasajeros)<self.capacidad:\n",
    "            print(\"puede ingresar\")\n",
    "            self.listaPasajeros.append(Persona)\n",
    "        else:\n",
    "            print(\"no puede ingresar\")\n",
    "    \n",
    "            \n",
    "\n",
    "p=Persona(\"Facu\",20)\n",
    "p1=Persona(\"Juan\",22) \n",
    "p2=Persona(\"Pedro\",24)\n",
    "b.ingresarChofer(p)\n",
    "b.ingresarPasajeros(p1)\n",
    "b.ingresarPasajeros(p2)\n",
    "for pasajero in b.listaPasajeros:\n",
    "    print(pasajero)\n"
   ]
  },
  {
   "cell_type": "code",
   "execution_count": null,
   "metadata": {},
   "outputs": [],
   "source": []
  }
 ],
 "metadata": {
  "kernelspec": {
   "display_name": "Python 3",
   "language": "python",
   "name": "python3"
  },
  "language_info": {
   "codemirror_mode": {
    "name": "ipython",
    "version": 3
   },
   "file_extension": ".py",
   "mimetype": "text/x-python",
   "name": "python",
   "nbconvert_exporter": "python",
   "pygments_lexer": "ipython3",
   "version": "3.8.3"
  }
 },
 "nbformat": 4,
 "nbformat_minor": 2
}
