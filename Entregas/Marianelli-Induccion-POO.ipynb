{
 "cells": [
  {
   "cell_type": "code",
   "execution_count": 1,
   "metadata": {},
   "outputs": [
    {
     "name": "stdout",
     "output_type": "stream",
     "text": [
      "<class 'str'>\n"
     ]
    }
   ],
   "source": [
    "lenguaje=\"Python\"\n",
    "print(type(lenguaje))"
   ]
  },
  {
   "cell_type": "code",
   "execution_count": 8,
   "metadata": {},
   "outputs": [
    {
     "name": "stdout",
     "output_type": "stream",
     "text": [
      "<class 'function'>\n",
      "<class 'float'>\n"
     ]
    }
   ],
   "source": [
    "def mitad(x):\n",
    "    return x/2\n",
    "print(type(mitad))\n",
    "valor=mitad(25)\n",
    "print(type(valor))"
   ]
  },
  {
   "cell_type": "code",
   "execution_count": 10,
   "metadata": {},
   "outputs": [
    {
     "name": "stdout",
     "output_type": "stream",
     "text": [
      "<class 'module'>\n"
     ]
    }
   ],
   "source": [
    "import os\n",
    "print(type(os))"
   ]
  },
  {
   "cell_type": "code",
   "execution_count": 11,
   "metadata": {},
   "outputs": [
    {
     "name": "stdout",
     "output_type": "stream",
     "text": [
      "<class 'list'>\n"
     ]
    }
   ],
   "source": [
    "lista=[1,2,3,4,5]\n",
    "print(type(lista))"
   ]
  },
  {
   "cell_type": "code",
   "execution_count": 13,
   "metadata": {},
   "outputs": [
    {
     "name": "stdout",
     "output_type": "stream",
     "text": [
      "['a', 'b', 'c']\n"
     ]
    }
   ],
   "source": [
    "lista=[\"c\",\"a\",\"b\"]\n",
    "lista.append(\"d\")\n",
    "lista.pop()\n",
    "lista.sort()\n",
    "print(lista)"
   ]
  },
  {
   "cell_type": "code",
   "execution_count": 17,
   "metadata": {},
   "outputs": [
    {
     "name": "stdout",
     "output_type": "stream",
     "text": [
      "False\n"
     ]
    }
   ],
   "source": [
    "class NombreClase:\n",
    "    varClase1=\"variable de la clase 1\"\n",
    "    def nombreMetodo1(self,var1):\n",
    "        self.var1=var1\n",
    "    def nombreMetodo2(self):\n",
    "        self.var1+=1\n",
    "class Clase:\n",
    "    pass\n",
    "objeto1=Clase()\n",
    "objeto2=Clase()\n",
    "print(objeto1==objeto2)"
   ]
  },
  {
   "cell_type": "code",
   "execution_count": 52,
   "metadata": {},
   "outputs": [
    {
     "name": "stdout",
     "output_type": "stream",
     "text": [
      "Maria\n",
      "8\n",
      "2\n",
      "14\n",
      "('Maria', 8)\n",
      "('Carlos', 6)\n",
      "6\n",
      "0\n",
      "14\n",
      "el atributo edad no existe\n",
      "18\n",
      "{'__module__': '__main__', 'numAlumnos': 2, 'sumaNotas': 14, '__init__': <function Alumno.__init__ at 0x0000023B5AEA44C0>, 'mostrarNombreNota': <function Alumno.mostrarNombreNota at 0x0000023B5AEA4310>, 'mostrarNumAlumno': <function Alumno.mostrarNumAlumno at 0x0000023B5AEA43A0>, 'mostrarSumaNotas': <function Alumno.mostrarSumaNotas at 0x0000023B5AEA4430>, 'mostrarNotaMedia': <function Alumno.mostrarNotaMedia at 0x0000023B5AEA4820>, '__dict__': <attribute '__dict__' of 'Alumno' objects>, '__weakref__': <attribute '__weakref__' of 'Alumno' objects>, '__doc__': None}\n",
      "{'nombre': 'Maria', 'nota': 8}\n",
      "Alumno\n",
      "None\n",
      "__main__\n",
      "datetime\n",
      "(<class 'object'>,)\n",
      "(<class '__main__.Alumno'>,)\n"
     ]
    }
   ],
   "source": [
    "class Alumno:\n",
    "    numAlumnos=0\n",
    "    sumaNotas=0\n",
    "    def __init__(self,nombre,nota):\n",
    "        self.nombre=nombre\n",
    "        self.nota=nota\n",
    "        Alumno.numAlumnos+=1\n",
    "        Alumno.sumaNotas+=nota\n",
    "        \n",
    "    def mostrarNombreNota(self):\n",
    "        return(self.nombre,self.nota)\n",
    "    def mostrarNumAlumno(self):\n",
    "        return(Alumno.NumAlumnos)\n",
    "    def mostrarSumaNotas(self):\n",
    "        return(Alumno.sumaNotas)\n",
    "    def mostrarNotaMedia(self):\n",
    "        if Alumno.numAlumnos>0:\n",
    "            return(Alumno.sumaNotas/Alumno.numAlumnos)\n",
    "        else:\n",
    "            return(\"sin alumnos\")\n",
    "alumno1=Alumno(\"Maria\",8)\n",
    "alumno2=Alumno(\"Carlos\",6)\n",
    "print(alumno1.nombre)\n",
    "print(alumno1.nota)\n",
    "print(Alumno.numAlumnos)\n",
    "print(Alumno.sumaNotas)\n",
    "print(alumno1.mostrarNombreNota())\n",
    "print(alumno2.mostrarNombreNota())\n",
    "\n",
    "nota_alumno2=getattr(alumno2,\"nota\",0)\n",
    "edad_alumno2=getattr(alumno2,\"edad\",0)\n",
    "suma_notas=getattr(Alumno,\"sumaNotas\")\n",
    "print(nota_alumno2)\n",
    "print(edad_alumno2)\n",
    "print(suma_notas)\n",
    "if not hasattr(alumno2,\"edad\"):\n",
    "    print(\"el atributo edad no existe\")\n",
    "setattr(alumno2,\"edad\",18)\n",
    "print(alumno2.edad)\n",
    "delattr(alumno2,\"edad\")\n",
    "print(Alumno.__dict__)\n",
    "print(alumno1.__dict__)\n",
    "print(Alumno.__name__)\n",
    "print(Alumno.__doc__)\n",
    "print(Alumno.__module__)\n",
    "from datetime import date\n",
    "print(date.__module__)\n",
    "print(Alumno.__bases__)\n",
    "class Becario(Alumno):\n",
    "    pass\n",
    "print(Becario.__bases__)\n"
   ]
  },
  {
   "cell_type": "code",
   "execution_count": 19,
   "metadata": {},
   "outputs": [
    {
     "name": "stdout",
     "output_type": "stream",
     "text": [
      "Carmela\n"
     ]
    }
   ],
   "source": [
    "alumno1.nombre=\"Carmela\"\n",
    "print(alumno1.nombre)"
   ]
  },
  {
   "cell_type": "code",
   "execution_count": 22,
   "metadata": {},
   "outputs": [
    {
     "name": "stdout",
     "output_type": "stream",
     "text": [
      "2\n"
     ]
    }
   ],
   "source": [
    "print(Alumno.numAlumnos)"
   ]
  },
  {
   "cell_type": "code",
   "execution_count": 55,
   "metadata": {},
   "outputs": [
    {
     "name": "stdout",
     "output_type": "stream",
     "text": [
      "hola mi nombre es : C7PQ\n"
     ]
    }
   ],
   "source": [
    "class Robot:\n",
    "    #clase robot\n",
    "    def __init__(self,nombre):\n",
    "        self.nombre=nombre\n",
    "        \n",
    "    def saludo(self):\n",
    "        print(\"hola mi nombre es :\",self.nombre)\n",
    "        \n",
    "    def __del__(self):\n",
    "        print(\"se han terminado mis baterias. me voy a dormir.\")\n",
    "        \n",
    "robot1=Robot(\"C7PQ\")\n",
    "robot1.saludo()"
   ]
  },
  {
   "cell_type": "code",
   "execution_count": 56,
   "metadata": {},
   "outputs": [
    {
     "name": "stdout",
     "output_type": "stream",
     "text": [
      "2453951817712\n"
     ]
    }
   ],
   "source": [
    "print(id(robot1))"
   ]
  },
  {
   "cell_type": "code",
   "execution_count": 57,
   "metadata": {},
   "outputs": [
    {
     "name": "stdout",
     "output_type": "stream",
     "text": [
      "se han terminado mis baterias. me voy a dormir.\n"
     ]
    }
   ],
   "source": [
    "del robot1"
   ]
  },
  {
   "cell_type": "code",
   "execution_count": 58,
   "metadata": {},
   "outputs": [
    {
     "ename": "NameError",
     "evalue": "name 'robot1' is not defined",
     "output_type": "error",
     "traceback": [
      "\u001b[1;31m---------------------------------------------------------------------------\u001b[0m",
      "\u001b[1;31mNameError\u001b[0m                                 Traceback (most recent call last)",
      "\u001b[1;32m<ipython-input-58-b474f1623a62>\u001b[0m in \u001b[0;36m<module>\u001b[1;34m\u001b[0m\n\u001b[1;32m----> 1\u001b[1;33m \u001b[0mprint\u001b[0m\u001b[1;33m(\u001b[0m\u001b[0mid\u001b[0m\u001b[1;33m(\u001b[0m\u001b[0mrobot1\u001b[0m\u001b[1;33m)\u001b[0m\u001b[1;33m)\u001b[0m\u001b[1;33m\u001b[0m\u001b[1;33m\u001b[0m\u001b[0m\n\u001b[0m\u001b[0;32m      2\u001b[0m \u001b[0mrobot1\u001b[0m\u001b[1;33m.\u001b[0m\u001b[0msaludo\u001b[0m\u001b[1;33m(\u001b[0m\u001b[1;33m)\u001b[0m\u001b[1;33m\u001b[0m\u001b[1;33m\u001b[0m\u001b[0m\n\u001b[0;32m      3\u001b[0m \u001b[0mprint\u001b[0m\u001b[1;33m(\u001b[0m\u001b[0mrobot1\u001b[0m\u001b[1;33m.\u001b[0m\u001b[0mnombre\u001b[0m\u001b[1;33m)\u001b[0m\u001b[1;33m\u001b[0m\u001b[1;33m\u001b[0m\u001b[0m\n",
      "\u001b[1;31mNameError\u001b[0m: name 'robot1' is not defined"
     ]
    }
   ],
   "source": [
    "print(id(robot1))\n",
    "robot1.saludo()\n",
    "print(robot1.nombre)"
   ]
  },
  {
   "cell_type": "code",
   "execution_count": 60,
   "metadata": {},
   "outputs": [
    {
     "name": "stdout",
     "output_type": "stream",
     "text": [
      "nivel volumen 3\n",
      "nivel volumen 4\n",
      "nivel volumen 3\n",
      "nivel volumen 0\n",
      "nivel graves 3\n",
      "nivel graves 4\n"
     ]
    }
   ],
   "source": [
    "class volumen:\n",
    "    def __init__(self):\n",
    "        self.nivel=3\n",
    "        print(\"nivel\",self.__class__.__name__,self.nivel)\n",
    "    def subir(self):\n",
    "        self.nivel+=1\n",
    "        if self.nivel>10:\n",
    "            self.nivel=10\n",
    "        print(\"nivel\",self.__class__.__name__,self.nivel)\n",
    "    def bajar(self):\n",
    "        self.nivel-=1\n",
    "        if self.nivel<0:\n",
    "            self.nivel=0\n",
    "        print(\"nivel\",self.__class__.__name__,self.nivel)\n",
    "    def silenciar(self):\n",
    "        self.nivel=0\n",
    "        print(\"nivel\",self.__class__.__name__,self.nivel)\n",
    "class graves(volumen):\n",
    "    pass\n",
    "ControlVolumen=volumen()\n",
    "ControlVolumen.subir()\n",
    "ControlVolumen.bajar()\n",
    "ControlVolumen.silenciar()\n",
    "ControlGraves=graves()\n",
    "ControlGraves.subir()\n",
    "del ControlVolumen\n",
    "del ControlGraves"
   ]
  },
  {
   "cell_type": "code",
   "execution_count": null,
   "metadata": {},
   "outputs": [],
   "source": [
    "class Telefono:\n",
    "    #clase telefono\n",
    "    def __init__(self):\n",
    "        pass\n",
    "    def telefonear(self):\n",
    "        print(\"llamando\")\n",
    "    def colgar(self):\n",
    "        print(\"colgando\")\n",
    "class Camara:\n",
    "    #clase camara\n",
    "    def __init__(self):\n",
    "        pass\n",
    "    def fotografiar(self):\n",
    "        print(\"fotografiando\")\n",
    "class Reproductor:\n",
    "    #clase reproductor\n",
    "    def __init__(self):\n",
    "        pass\n",
    "    def reproducirmp3(self):\n",
    "        print(\"reproduciendo mp3\")\n",
    "    def reproducirVideo(self):\n",
    "        print(\"reproduciendo video\")\n",
    "class movil(Telefono,Camara,Reproductor):\n",
    "    def __del__(self):\n",
    "        print(\"movil apagado\")\n",
    "movil1=movil()\n",
    "print(dir(movil1))\n",
    "movil1.reproducirmp3()\n",
    "movil1.telefonear()\n",
    "movil1.fotografiar()\n",
    "del movil1\n",
    "print(issubclass(movil,Telefono))\n",
    "print(issubclass(movil,Reproductor))\n",
    "movil2=movil()\n",
    "print(isinstance(movil2,movil))\n",
    "print(isinstance(movil2,Camara))\n",
    "print(\"----\")\n",
    "class Movil(Telefono,Camara,Reproductor):\n",
    "    def __init__(self):\n",
    "        print(\"movil iniciado\")\n",
    "    def reproducirmp3(self):\n",
    "        print(\"reproduciendo mp3\")\n",
    "    def __del__(self):\n",
    "        print(\"movil apagado\")\n",
    "movil3=Movil()\n",
    "movil3.reproducirmp3()\n",
    "del movil3\n",
    "class Punto:\n",
    "    def __init__(self,x=0,y=0):\n",
    "        self.x=x\n",
    "        self.y=y\n",
    "    def __add__(self,other):\n",
    "        x=self.x+other.x\n",
    "        y=self.y+other.y\n",
    "        return x,y\n",
    "punto1=Punto(4,6)\n",
    "punto2=Punto(1,-2)\n",
    "print(punto1+punto2)\n",
    "class Factura:\n",
    "    __tasa=19\n",
    "    def __init__(self,unidad,precio):\n",
    "        self.unidad=unidad\n",
    "        self.precio=precio\n",
    "    def a__pagar(self):\n",
    "        total=self.unidad*self.precio\n",
    "        impuesto=total+Factura.__tasa/100\n",
    "        return(total+impuesto)\n",
    "compra1=Factura(12,100)\n",
    "print(compra1.unidad)\n",
    "print(compra1.precio)\n",
    "print(compra1.a__pagar(),\"euros\")\n",
    "print(\"------\")\n",
    "class Empleado:\n",
    "    def __init__(self,nombre,salario):\n",
    "        self.nombre=nombre\n",
    "        self.salario=salario\n",
    "    def getnombre(self):\n",
    "        return self.nombre\n",
    "    def getsalario(self):\n",
    "        return self.salario\n",
    "    def setnombre(self,nombre):\n",
    "        self.nombre=nombre\n",
    "    def setsalario(self,salario):\n",
    "        self.salario=salario\n",
    "    def delnombre(self):\n",
    "        del self.nombre\n",
    "    def delsalario(self):\n",
    "        del self.salario\n",
    "    nombre= property(fget=getnombre,\n",
    "                    fset=setnombre,\n",
    "                    fdel=delnombre,\n",
    "                    doc=\"soy la propiedad nombre\")\n",
    "    salario=property(fget=getsalario,\n",
    "                    doc=\"soy la propiedad salario\")\n",
    "        \n",
    "empleado1=Empleado(\"francisco\",30000)\n",
    "print(empleado1.getnombre())\n",
    "empleado1.setnombre(\"facundo\")\n",
    "print(empleado1.getnombre(),\" y\",empleado1.getsalario())\n",
    "print(\"---\")\n",
    "empleado2=Empleado(\"francisco jose\",30000)\n",
    "empleado2.nombre=\"Rosa\"\n",
    "print(empleado2.nombre,\n",
    "     empleado2.salario)"
   ]
  },
  {
   "cell_type": "code",
   "execution_count": null,
   "metadata": {},
   "outputs": [],
   "source": [
    "class Telefono:\n",
    "    #clase telefono\n",
    "    def __init__(self):\n",
    "        pass\n",
    "    def telefonear(self):\n",
    "        print(\"llamando\")\n",
    "    def colgar(self):\n",
    "        print(\"colgando\")\n",
    "class Camara:\n",
    "    #clase camara\n",
    "    def __init__(self):\n",
    "        pass\n",
    "    def fotografiar(self):\n",
    "        print(\"fotografiando\")\n",
    "class Reproductor:\n",
    "    #clase reproductor\n",
    "    def __init__(self):\n",
    "        pass\n",
    "    def reproducirmp3(self):\n",
    "        print(\"reproduciendo mp3\")\n",
    "    def reproducirVideo(self):\n",
    "        print(\"reproduciendo video\")\n",
    "class movil(Telefono,Camara,Reproductor):\n",
    "    def __del__(self):\n",
    "        print(\"movil apagado\")\n",
    "movil1=movil()\n",
    "print(dir(movil1))\n",
    "movil1.reproducirmp3()\n",
    "movil1.telefonear()\n",
    "movil1.fotografiar()\n",
    "del movil1\n",
    "print(issubclass(movil,Telefono))\n",
    "print(issubclass(movil,Reproductor))\n",
    "movil2=movil()\n",
    "print(isinstance(movil2,movil))\n",
    "print(isinstance(movil2,Camara))\n",
    "print(\"----\")\n",
    "class Movil(Telefono,Camara,Reproductor):\n",
    "    def __init__(self):\n",
    "        print(\"movil iniciado\")\n",
    "    def reproducirmp3(self):\n",
    "        print(\"reproduciendo mp3\")\n",
    "    def __del__(self):\n",
    "        print(\"movil apagado\")\n",
    "movil3=Movil()\n",
    "movil3.reproducirmp3()\n",
    "del movil3\n",
    "class Punto:\n",
    "    def __init__(self,x=0,y=0):\n",
    "        self.x=x\n",
    "        self.y=y\n",
    "    def __add__(self,other):\n",
    "        x=self.x+other.x\n",
    "        y=self.y+other.y\n",
    "        return x,y\n",
    "punto1=Punto(4,6)\n",
    "punto2=Punto(1,-2)\n",
    "print(punto1+punto2)\n",
    "class Factura:\n",
    "    __tasa=19\n",
    "    def __init__(self,unidad,precio):\n",
    "        self.unidad=unidad\n",
    "        self.precio=precio\n",
    "    def a__pagar(self):\n",
    "        total=self.unidad*self.precio\n",
    "        impuesto=total+Factura.__tasa/100\n",
    "        return(total+impuesto)\n",
    "compra1=Factura(12,100)\n",
    "print(compra1.unidad)\n",
    "print(compra1.precio)\n",
    "print(compra1.a__pagar(),\"euros\")\n",
    "print(\"------\")\n",
    "class Empleado:\n",
    "    def __init__(self,nombre,salario):\n",
    "        self.nombre=nombre\n",
    "        self.salario=salario\n",
    "    def getnombre(self):\n",
    "        return self.nombre\n",
    "    def getsalario(self):\n",
    "        return self.salario\n",
    "    def setnombre(self,nombre):\n",
    "        self.nombre=nombre\n",
    "    def setsalario(self,salario):\n",
    "        self.salario=salario\n",
    "    def delnombre(self):\n",
    "        del self.nombre\n",
    "    def delsalario(self):\n",
    "        del self.salario\n",
    "    nombre= property(fget=getnombre,\n",
    "                    fset=setnombre,\n",
    "                    fdel=delnombre,\n",
    "                    doc=\"soy la propiedad nombre\")\n",
    "    salario=property(fget=getsalario,\n",
    "                    doc=\"soy la propiedad salario\")\n",
    "        \n",
    "empleado1=Empleado(\"francisco\",30000)\n",
    "print(empleado1.getnombre())\n",
    "empleado1.setnombre(\"facundo\")\n",
    "print(empleado1.getnombre(),\" y\",empleado1.getsalario())\n",
    "print(\"---\")\n"
   ]
  },
  {
   "cell_type": "code",
   "execution_count": null,
   "metadata": {},
   "outputs": [],
   "source": []
  }
 ],
 "metadata": {
  "kernelspec": {
   "display_name": "Python 3",
   "language": "python",
   "name": "python3"
  },
  "language_info": {
   "codemirror_mode": {
    "name": "ipython",
    "version": 3
   },
   "file_extension": ".py",
   "mimetype": "text/x-python",
   "name": "python",
   "nbconvert_exporter": "python",
   "pygments_lexer": "ipython3",
   "version": "3.8.3"
  }
 },
 "nbformat": 4,
 "nbformat_minor": 4
}
