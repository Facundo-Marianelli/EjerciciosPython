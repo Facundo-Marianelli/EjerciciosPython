{
 "cells": [
  {
   "cell_type": "markdown",
   "metadata": {},
   "source": [
    "# Ejercicios de Listas y Tuplas"
   ]
  },
  {
   "cell_type": "markdown",
   "metadata": {},
   "source": [
    "## Ejercicio 1"
   ]
  },
  {
   "cell_type": "markdown",
   "metadata": {},
   "source": [
    "Escribir un programa que almacene las asignaturas de un curso (por ejemplo Matemáticas, Física, Química, Historia y Lengua) en una lista y la muestre por pantalla."
   ]
  },
  {
   "cell_type": "code",
   "execution_count": 5,
   "metadata": {},
   "outputs": [
    {
     "name": "stdout",
     "output_type": "stream",
     "text": [
      "ingresar cantidad de asignaturas2\n",
      "ingrese el nombre de la asignaturaQuimica\n",
      "ingrese el nombre de la asignaturaFisica\n",
      "['Quimica', 'Fisica']\n"
     ]
    }
   ],
   "source": [
    "\n",
    "cantAsignaturas=int(input(\"ingresar cantidad de asignaturas\"))\n",
    "asignaturas=[]\n",
    "for i in range(cantAsignaturas):\n",
    "    nombreAsignatura=input(\"ingrese el nombre de la asignatura\")\n",
    "    asignaturas.append(nombreAsignatura)\n",
    "print(\"las asignaturas del curso son:\",asignaturas)    "
   ]
  },
  {
   "cell_type": "markdown",
   "metadata": {},
   "source": [
    "## Ejercicio 2"
   ]
  },
  {
   "cell_type": "markdown",
   "metadata": {},
   "source": [
    "Escribir un programa que almacene las asignaturas de un curso (por ejemplo Matemáticas, Física, Química, Historia y Lengua) en una lista y la muestre por pantalla el mensaje <font color=#B40431>Yo estudio &#60;asignatura&#62;</font>, donde <font color=#B40431>&#60;asignatura&#62;</font> es cada una de las asignaturas de la lista."
   ]
  },
  {
   "cell_type": "code",
   "execution_count": 7,
   "metadata": {},
   "outputs": [
    {
     "name": "stdout",
     "output_type": "stream",
     "text": [
      "ingresar cantidad de asignaturas3\n",
      "ingresar el nombre de la asignaturaquimica\n",
      "ingresar el nombre de la asignaturafisica\n",
      "ingresar el nombre de la asignaturalengua\n",
      "yo estudio quimica donde quimica es una entre las siguientes asignaturas: ['quimica', 'fisica', 'lengua']\n",
      "yo estudio fisica donde fisica es una entre las siguientes asignaturas: ['quimica', 'fisica', 'lengua']\n",
      "yo estudio lengua donde lengua es una entre las siguientes asignaturas: ['quimica', 'fisica', 'lengua']\n"
     ]
    }
   ],
   "source": [
    "cantAsignaturas= int(input(\"ingresar cantidad de asignaturas\"))\n",
    "asignaturas=[]\n",
    "for i in range(cantAsignaturas):\n",
    "    nombreAsignatura=input(\"ingresar el nombre de la asignatura\")\n",
    "    asignaturas.append(nombreAsignatura)\n",
    "for i in range(len(asignaturas)):\n",
    "    asignatura=asignaturas[i]\n",
    "    print(\"yo estudio\",asignatura,\"donde\", asignatura,\"es una entre las siguientes asignaturas:\",asignaturas)"
   ]
  },
  {
   "cell_type": "markdown",
   "metadata": {},
   "source": [
    "## Ejercicio 3"
   ]
  },
  {
   "cell_type": "markdown",
   "metadata": {},
   "source": [
    "Escribir un programa que almacene las asignaturas de un curso (por ejemplo Matemáticas, Física, Química, Historia y Lengua) en una lista, pregunte al usuario la nota que ha sacado en cada asignatura, y después las muestre por pantalla con el mensaje <font color=#B40431>En &#60;asignatura&#62; has sacado &#60;nota&#62;</font> donde <font color=#B40431>&#60;asignatura&#62;</font> es cada una de las asignaturas de la lista y <font color=#B40431>&#60;nota&#62;</font> cada una de las correspondientes notas introducidas por el usuario."
   ]
  },
  {
   "cell_type": "code",
   "execution_count": 14,
   "metadata": {},
   "outputs": [
    {
     "name": "stdout",
     "output_type": "stream",
     "text": [
      "ingresar cantidad de asignaturas2\n",
      "ingresar el nombre de la asignaturaquimica\n",
      "Ingrese su nota8\n",
      "ingresar el nombre de la asignaturalengua\n",
      "Ingrese su nota10\n",
      "quimica\n",
      "8\n",
      "lengua\n",
      "10\n"
     ]
    }
   ],
   "source": [
    "cantAsignaturas= int(input(\"ingresar cantidad de asignaturas\"))\n",
    "asignaturasYNotas=()\n",
    "for i in range(cantAsignaturas):\n",
    "    nombreAsignatura=input(\"ingresar el nombre de la asignatura\")\n",
    "    nota=int(input(\"Ingrese su nota\"))\n",
    "    asignaturasYNotas=asignaturasYNotas+(nombreAsignatura,nota)\n",
    "for i in range(len(asignaturasYNotas)):\n",
    "    print(asignaturasYNotas[i])"
   ]
  },
  {
   "cell_type": "markdown",
   "metadata": {},
   "source": [
    "## Ejercicio 4"
   ]
  },
  {
   "cell_type": "markdown",
   "metadata": {},
   "source": [
    "Escribir un programa que pregunte al usuario los números ganadores de la lotería primitiva, los almacene en una lista y los muestre por pantalla ordenados de menor a mayor."
   ]
  },
  {
   "cell_type": "code",
   "execution_count": 15,
   "metadata": {},
   "outputs": [
    {
     "name": "stdout",
     "output_type": "stream",
     "text": [
      "Ingresar cant numeros ganados de la loteria primitiva4\n",
      "Ingresar numero ganador de la loteria primitiva98\n",
      "Ingresar numero ganador de la loteria primitiva12\n",
      "Ingresar numero ganador de la loteria primitiva87\n",
      "Ingresar numero ganador de la loteria primitiva1\n",
      "[1, 12, 87, 98]\n"
     ]
    }
   ],
   "source": [
    "numGanadores=int(input(\"Ingresar cant numeros ganados de la loteria primitiva\"))\n",
    "numerosGanadores=[]\n",
    "for i in range(numGanadores):\n",
    "    numGanador=int(input(\"Ingresar numero ganador de la loteria primitiva\"))\n",
    "    numerosGanadores.append(numGanador)\n",
    "numerosGanadores.sort()\n",
    "print(numerosGanadores)\n",
    "    "
   ]
  },
  {
   "cell_type": "markdown",
   "metadata": {},
   "source": [
    "## Ejercicio 5"
   ]
  },
  {
   "cell_type": "markdown",
   "metadata": {},
   "source": [
    "Escribir un programa que almacene en una lista los números del 1 al 10 y los muestre por pantalla en orden inverso separados por comas."
   ]
  },
  {
   "cell_type": "code",
   "execution_count": 18,
   "metadata": {},
   "outputs": [
    {
     "name": "stdout",
     "output_type": "stream",
     "text": [
      "10,9,8,7,6,5,4,3,2,1,"
     ]
    }
   ],
   "source": [
    "numeros=[]\n",
    "for i in range(11):\n",
    "    numeros.append(i)\n",
    "long=len(numeros)-1\n",
    "while long!=0:\n",
    "    num=numeros[long]\n",
    "    print(num, end=\",\")\n",
    "    long=long-1"
   ]
  },
  {
   "cell_type": "markdown",
   "metadata": {},
   "source": [
    "## Ejercicio 6"
   ]
  },
  {
   "cell_type": "markdown",
   "metadata": {},
   "source": [
    "Escribir un programa que almacene las asignaturas de un curso (por ejemplo Matemáticas, Física, Química, Historia y Lengua) en una lista, pregunte al usuario la nota que ha sacado en cada asignatura y elimine de la lista las asignaturas aprobadas. Al final el programa debe mostrar por pantalla las asignaturas que el usuario tiene que repetir."
   ]
  },
  {
   "cell_type": "code",
   "execution_count": 24,
   "metadata": {},
   "outputs": [
    {
     "name": "stdout",
     "output_type": "stream",
     "text": [
      "ingresar cantidad de asignaturas4\n",
      "ingresar el nombre de la asignaturaquimica\n",
      "ingresar el nombre de la asignaturafisica\n",
      "ingresar el nombre de la asignaturalengua\n",
      "ingresar el nombre de la asignaturaIOO\n",
      "a continuación debera ingresar su nota de: quimica\n",
      "ingrese su nota8\n",
      "a continuación debera ingresar su nota de: fisica\n",
      "ingrese su nota3\n",
      "a continuación debera ingresar su nota de: lengua\n",
      "ingrese su nota2\n",
      "a continuación debera ingresar su nota de: IOO\n",
      "ingrese su nota10\n",
      "['fisica', 'lengua']\n"
     ]
    }
   ],
   "source": [
    "cantAsignaturas= int(input(\"ingresar cantidad de asignaturas\"))\n",
    "asignaturasAprobadas=[]\n",
    "asignaturasDesaprobadas=[]\n",
    "for i in range(cantAsignaturas):\n",
    "    nombreAsignatura=input(\"ingresar el nombre de la asignatura\")\n",
    "    asignaturasAprobadas.append(nombreAsignatura)\n",
    "for i in range(len(asignaturasAprobadas)):\n",
    "    asignatura=asignaturasAprobadas[i]\n",
    "    print(\"a continuación debera ingresar su nota de:\",asignatura)\n",
    "    nota=int(input(\"ingrese su nota\"))\n",
    "    if nota<4:\n",
    "        asignaturasDesaprobadas.append(asignatura)\n",
    "print(\"las asignaturas desaprobadas por el alumno son:\",asignaturasDesaprobadas)"
   ]
  },
  {
   "cell_type": "markdown",
   "metadata": {},
   "source": [
    "## Ejercicio 7"
   ]
  },
  {
   "cell_type": "markdown",
   "metadata": {},
   "source": [
    "#### Escribir un programa que almacene el abecedario en una lista, elimine de la lista las letras que ocupen posiciones múltiplos de 3, y muestre por pantalla la lista resultante."
   ]
  },
  {
   "cell_type": "code",
   "execution_count": 2,
   "metadata": {},
   "outputs": [
    {
     "name": "stdout",
     "output_type": "stream",
     "text": [
      "Ingrese la letraa\n",
      "Ingrese la letrab\n",
      "Ingrese la letrac\n",
      "Ingrese la letrad\n",
      "Ingrese la letrae\n",
      "Ingrese la letraf\n",
      "Ingrese la letrag\n",
      "Ingrese la letrah\n",
      "Ingrese la letrai\n",
      "Ingrese la letraj\n",
      "Ingrese la letrak\n",
      "Ingrese la letral\n"
     ]
    },
    {
     "ename": "IndexError",
     "evalue": "list index out of range",
     "output_type": "error",
     "traceback": [
      "\u001b[1;31m---------------------------------------------------------------------------\u001b[0m",
      "\u001b[1;31mIndexError\u001b[0m                                Traceback (most recent call last)",
      "\u001b[1;32m<ipython-input-2-f1844ea4c3d1>\u001b[0m in \u001b[0;36m<module>\u001b[1;34m\u001b[0m\n\u001b[0;32m      6\u001b[0m \u001b[1;32mfor\u001b[0m \u001b[0mi\u001b[0m \u001b[1;32min\u001b[0m \u001b[0mrange\u001b[0m\u001b[1;33m(\u001b[0m\u001b[0mlen\u001b[0m\u001b[1;33m(\u001b[0m\u001b[0mletras\u001b[0m\u001b[1;33m)\u001b[0m\u001b[1;33m)\u001b[0m\u001b[1;33m:\u001b[0m\u001b[1;33m\u001b[0m\u001b[1;33m\u001b[0m\u001b[0m\n\u001b[0;32m      7\u001b[0m     \u001b[1;32mif\u001b[0m \u001b[0mi\u001b[0m\u001b[1;33m%\u001b[0m\u001b[1;36m3\u001b[0m\u001b[1;33m==\u001b[0m\u001b[1;36m0\u001b[0m\u001b[1;33m:\u001b[0m\u001b[1;33m\u001b[0m\u001b[1;33m\u001b[0m\u001b[0m\n\u001b[1;32m----> 8\u001b[1;33m         \u001b[0mletras\u001b[0m\u001b[1;33m.\u001b[0m\u001b[0mremove\u001b[0m\u001b[1;33m(\u001b[0m\u001b[0mletras\u001b[0m\u001b[1;33m[\u001b[0m\u001b[0mi\u001b[0m\u001b[1;33m]\u001b[0m\u001b[1;33m)\u001b[0m\u001b[1;33m\u001b[0m\u001b[1;33m\u001b[0m\u001b[0m\n\u001b[0m\u001b[0;32m      9\u001b[0m \u001b[0mprint\u001b[0m\u001b[1;33m(\u001b[0m\u001b[0mletras\u001b[0m\u001b[1;33m)\u001b[0m\u001b[1;33m\u001b[0m\u001b[1;33m\u001b[0m\u001b[0m\n",
      "\u001b[1;31mIndexError\u001b[0m: list index out of range"
     ]
    }
   ],
   "source": [
    "cantLetras=12\n",
    "letras=[]\n",
    "for i in range(cantLetras):\n",
    "    letra=input(\"Ingrese la letra\")\n",
    "    letras.append(letra)\n",
    "for i in range(len(letras)):\n",
    "    if i%3==0:\n",
    "        letras.remove(letras[i])\n",
    "print(letras)"
   ]
  },
  {
   "cell_type": "markdown",
   "metadata": {},
   "source": [
    "## Ejercicio 8"
   ]
  },
  {
   "cell_type": "markdown",
   "metadata": {},
   "source": [
    "Escribir un programa que pida al usuario una palabra y muestre por pantalla si es un palíndromo."
   ]
  },
  {
   "cell_type": "code",
   "execution_count": null,
   "metadata": {},
   "outputs": [],
   "source": []
  },
  {
   "cell_type": "markdown",
   "metadata": {},
   "source": [
    "## Ejercicio 9"
   ]
  },
  {
   "cell_type": "markdown",
   "metadata": {},
   "source": [
    "Escribir un programa que pida al usuario una palabra y muestre por pantalla el número de veces que contiene cada vocal."
   ]
  },
  {
   "cell_type": "code",
   "execution_count": null,
   "metadata": {},
   "outputs": [],
   "source": []
  },
  {
   "cell_type": "markdown",
   "metadata": {},
   "source": [
    "## Ejercicio 10"
   ]
  },
  {
   "cell_type": "markdown",
   "metadata": {},
   "source": [
    "Escribir un programa que almacene en una lista los siguientes precios, 50, 75, 46, 22, 80, 65, 8, y muestre por pantalla el menor y el mayor de los precios."
   ]
  },
  {
   "cell_type": "code",
   "execution_count": null,
   "metadata": {},
   "outputs": [],
   "source": []
  },
  {
   "cell_type": "markdown",
   "metadata": {},
   "source": [
    "## Ejercicio 11"
   ]
  },
  {
   "cell_type": "markdown",
   "metadata": {},
   "source": [
    "Escribir un programa que almacene los vectores (1,2,3) y (-1,0,2) en dos listas y muestre por pantalla su producto escalar."
   ]
  },
  {
   "cell_type": "code",
   "execution_count": null,
   "metadata": {},
   "outputs": [],
   "source": []
  },
  {
   "cell_type": "markdown",
   "metadata": {},
   "source": [
    "## Ejercicio 12"
   ]
  },
  {
   "cell_type": "markdown",
   "metadata": {},
   "source": [
    "Escribir un programa que almacene las matrices\n",
    "\n",
    "$A = \\left(\n",
    "\\begin{array}{rrr}\n",
    "1 & 2 & 3\\\n",
    "4 & 5 & 6\n",
    "\\end{array}\n",
    "\\right)\n",
    "\\quad  y\n",
    "\\quad\n",
    "B = \\left(\n",
    "\\begin{array}{rr}\n",
    "-1 & 0\\\n",
    "0 & 1\\\n",
    "1 & 1\n",
    "\\end{array}\n",
    "\\right)\n",
    "$\n",
    "\n",
    "en una lista y muestre por pantalla su producto.\n",
    "Nota: Para representar matrices mediante listas usar listas anidadas, representando cada vector fila en una lista."
   ]
  },
  {
   "cell_type": "code",
   "execution_count": null,
   "metadata": {},
   "outputs": [],
   "source": []
  },
  {
   "cell_type": "markdown",
   "metadata": {},
   "source": [
    "## Ejercicio 13"
   ]
  },
  {
   "cell_type": "markdown",
   "metadata": {},
   "source": [
    "Escribir un programa que pregunte por una muestra de números, separados por comas, los guarde en una lista y muestre por pantalla su media y desviación típica."
   ]
  },
  {
   "cell_type": "code",
   "execution_count": null,
   "metadata": {},
   "outputs": [],
   "source": []
  }
 ],
 "metadata": {
  "kernelspec": {
   "display_name": "Python 3",
   "language": "python",
   "name": "python3"
  },
  "language_info": {
   "codemirror_mode": {
    "name": "ipython",
    "version": 3
   },
   "file_extension": ".py",
   "mimetype": "text/x-python",
   "name": "python",
   "nbconvert_exporter": "python",
   "pygments_lexer": "ipython3",
   "version": "3.8.3"
  }
 },
 "nbformat": 4,
 "nbformat_minor": 2
}
