{
 "cells": [
  {
   "cell_type": "markdown",
   "metadata": {},
   "source": [
    "# Ejercicios de Diccionarios"
   ]
  },
  {
   "cell_type": "markdown",
   "metadata": {},
   "source": [
    "## Ejercicio 1"
   ]
  },
  {
   "cell_type": "markdown",
   "metadata": {},
   "source": [
    "Escribir un programa que guarde en una variable el diccionario <font color=#B40431>{'Euro':'€', 'Dollar':'$', 'Yen':'¥'}</font>, pregunte al usuario por una divisa y muestre su símbolo o un mensaje de aviso si la divisa no está en el diccionario."
   ]
  },
  {
   "cell_type": "code",
   "execution_count": 5,
   "metadata": {},
   "outputs": [
    {
     "name": "stdout",
     "output_type": "stream",
     "text": [
      "Ingrese su divisaEuro\n",
      "su simbolo es: €\n"
     ]
    }
   ],
   "source": [
    "dic={\"Euro\":\"€\",\"Dollar\":\"$\",\"Yen\":\"¥\"}\n",
    "divisa=input(\"Ingrese su divisa\")\n",
    "if divisa not in dic:\n",
    "    print(\"la divisa no se encuentra\")\n",
    "elif divisa in dic:\n",
    "    simbolo=dic.get(divisa)\n",
    "    print(\"su simbolo es:\",simbolo)"
   ]
  },
  {
   "cell_type": "markdown",
   "metadata": {},
   "source": [
    "## Ejercicio 2"
   ]
  },
  {
   "cell_type": "markdown",
   "metadata": {},
   "source": [
    "Escribir un programa que pregunte al usuario su nombre, edad, dirección y teléfono y lo guarde en un diccionario. Después debe mostrar por pantalla el mensaje <<font color=#B40431>&#60;nombre&#62; tiene &#60;edad&#62; años, vive en &#60;dirección&#62; y su número de teléfono es &#60;teléfono&#62;.</font>"
   ]
  },
  {
   "cell_type": "code",
   "execution_count": 32,
   "metadata": {},
   "outputs": [
    {
     "name": "stdout",
     "output_type": "stream",
     "text": [
      "ingrese su nombrefacundo\n",
      "ingrese su edad19\n",
      "ingrese su direccionalbarellos\n",
      "ingrese su telefono982321\n",
      "facundo tiene 19 años\n",
      "vive en : albarellos y su numero de telefono es: 982321\n"
     ]
    }
   ],
   "source": [
    "nombre=input(\"ingrese su nombre\")\n",
    "edad=int(input(\"ingrese su edad\"))\n",
    "direccion=input(\"ingrese su direccion\")\n",
    "telefono=int(input(\"ingrese su telefono\"))\n",
    "dicc={}\n",
    "dicc[nombre]=edad\n",
    "dicc[direccion]=telefono\n",
    "clavesTotales=dicc.keys()\n",
    "clavesTotales=list(clavesTotales)\n",
    "edad=dicc.get(clavesTotales[0])\n",
    "numTelefono=dicc.get(clavesTotales[1])\n",
    "print(clavesTotales[0],\"tiene\",edad,\"años\")\n",
    "print(\"vive en :\",clavesTotales[1],\"y su numero de telefono es:\",numTelefono)"
   ]
  },
  {
   "cell_type": "markdown",
   "metadata": {},
   "source": [
    "## Ejercicio 3"
   ]
  },
  {
   "cell_type": "markdown",
   "metadata": {},
   "source": [
    "Escribir un programa que guarde en un diccionario los precios de las frutas de la tabla, pregunte al usuario por una fruta, un número de kilos y muestre por pantalla el precio de ese número de kilos de fruta. Si la fruta no está en el diccionario debe mostrar un mensaje informando de ello.\n",
    "<table>\n",
    "<thead>\n",
    "<tr>\n",
    "<th style=\"text-align:left\">Fruta</th>\n",
    "<th style=\"text-align:center\">Precio</th>\n",
    "</tr>\n",
    "</thead>\n",
    "<tbody>\n",
    "<tr>\n",
    "<td style=\"text-align:left\">Banana</td>\n",
    "<td style=\"text-align:center\">120</td>\n",
    "</tr>\n",
    "<tr>\n",
    "<td style=\"text-align:left\">Manzana</td>\n",
    "<td style=\"text-align:center\">130</td>\n",
    "</tr>\n",
    "<tr>\n",
    "<td style=\"text-align:left\">Pera</td>\n",
    "<td style=\"text-align:center\">90</td>\n",
    "</tr>\n",
    "<tr>\n",
    "<td style=\"text-align:left\">Naranja</td>\n",
    "<td style=\"text-align:center\">85</td>\n",
    "</tr>\n",
    "</tbody>\n",
    "</table>"
   ]
  },
  {
   "cell_type": "code",
   "execution_count": 11,
   "metadata": {},
   "outputs": [
    {
     "name": "stdout",
     "output_type": "stream",
     "text": [
      "ingrese su frutaBanana\n",
      "ingrese su num de kilos2\n",
      "el usuario debe pagar:  240\n"
     ]
    }
   ],
   "source": [
    "dicc={\"Banana\":120,\"Manzana\":130,\"Pera\":90,\"Naranja\":85}\n",
    "fruta=input(\"ingrese su fruta\")\n",
    "numKilos=int(input(\"ingrese su num de kilos\"))\n",
    "if fruta in dicc:\n",
    "    valor=dicc.get(fruta)\n",
    "    total=numKilos*valor\n",
    "    print(\"el usuario debe pagar: \",total)\n",
    "elif fruta not in dicc:\n",
    "    print(\"la fruta no se encuentra en el sistema\")"
   ]
  },
  {
   "cell_type": "markdown",
   "metadata": {},
   "source": [
    "## Ejercicio 4"
   ]
  },
  {
   "cell_type": "markdown",
   "metadata": {},
   "source": [
    "Escribir un programa que pregunte una fecha en formato <font color=#B40431>dd/mm/aaaa</font> y muestre por pantalla la misma fecha en formato <font color=#B40431>dd de &#60;mes&#62; de aaaa</font> donde <font color=#B40431>&#60;mes&#62;</font> es el nombre del mes."
   ]
  },
  {
   "cell_type": "code",
   "execution_count": 49,
   "metadata": {},
   "outputs": [
    {
     "name": "stdout",
     "output_type": "stream",
     "text": [
      "ingrese la fecha12/3/2020\n",
      "3\n",
      "marzo\n",
      "12 de  marzo de : 2020\n"
     ]
    }
   ],
   "source": [
    "months = {1:'enero', 2:'febrero', 3:'marzo', 4:'abril', 5:'mayo', 6:'junio', 7:'julio', 8:'agosto', 9:'septiembre', 10:'octubre', 11:'noviembre', 12:'diciembre'}\n",
    "fecha=input(\"ingrese la fecha\")\n",
    "fecha=fecha.split(\"/\")\n",
    "valorFecha=fecha[1]\n",
    "mes=months.get(int(valorFecha))\n",
    "print(fecha[0],\"de \",mes,\"de :\",fecha[2])"
   ]
  },
  {
   "cell_type": "markdown",
   "metadata": {},
   "source": [
    "## Ejercicio 5"
   ]
  },
  {
   "cell_type": "markdown",
   "metadata": {},
   "source": [
    "Escribir un programa que almacene el diccionario con los créditos de las asignaturas de un curso <font color=#B40431>{'Matemáticas': 6, 'Física': 4, 'Química': 5}</font>y después muestre por pantalla los créditos de cada asignatura en el formato <font color=#B40431>&#60;asignatura&#62;</font> tiene <font color=#B40431>&#60;créditos&#62;</font> créditos, donde <font color=#B40431>&#60;asignatura&#62;</font> es cada una de las asignaturas del curso, y <font color=#B40431>&#60;créditos&#62;</font> son sus créditos. Al final debe mostrar también el número total de créditos del curso."
   ]
  },
  {
   "cell_type": "code",
   "execution_count": 50,
   "metadata": {},
   "outputs": [
    {
     "name": "stdout",
     "output_type": "stream",
     "text": [
      "dict_keys(['Matematicas', 'Fisica', 'Quimica'])\n",
      "['Matematicas', 'Fisica', 'Quimica']\n",
      "la asignatura : Matematicas tiene : 6 creditos\n",
      "la asignatura : Fisica tiene : 4 creditos\n",
      "la asignatura : Quimica tiene : 5 creditos\n",
      "el numero total de creditos es : 15\n"
     ]
    }
   ],
   "source": [
    "dic={\"Matematicas\":6,\"Fisica\":4,\"Quimica\":5}\n",
    "claves=dic.keys()\n",
    "print(claves)\n",
    "totalCreditos=0\n",
    "claves=list(claves)\n",
    "print(claves)\n",
    "for i in range(len(claves)):\n",
    "    asignatura=claves[i]\n",
    "    credito=dic.get(asignatura)\n",
    "    print(\"la asignatura :\",asignatura,\"tiene :\",credito,\"creditos\")\n",
    "    totalCreditos=totalCreditos+credito\n",
    "print(\"el numero total de creditos es :\",totalCreditos)\n",
    "    "
   ]
  },
  {
   "cell_type": "markdown",
   "metadata": {},
   "source": [
    "## Ejercicio 6"
   ]
  },
  {
   "cell_type": "markdown",
   "metadata": {},
   "source": [
    "Escribir un programa que cree un diccionario vacío y lo vaya llenado con información sobre una persona (por ejemplo nombre, edad, sexo, teléfono, correo electrónico, etc.) que se le pida al usuario. Cada vez que se añada un nuevo dato debe imprimirse el contenido del diccionario."
   ]
  },
  {
   "cell_type": "code",
   "execution_count": 51,
   "metadata": {},
   "outputs": [
    {
     "name": "stdout",
     "output_type": "stream",
     "text": [
      "Ingrese la cantidad de datos que quiere rellenar3\n",
      "Ingrese su primer tipo de datosfacundo\n",
      "a continuacion debera ingresar el valor de : facundo\n",
      "ingrese el valor 13\n",
      "{'facundo': '13'}\n",
      "Ingrese su primer tipo de datostelefono\n",
      "a continuacion debera ingresar el valor de : telefono\n",
      "ingrese el valor 47339351\n",
      "{'facundo': '13', 'telefono': '47339351'}\n"
     ]
    },
    {
     "ename": "KeyboardInterrupt",
     "evalue": "Interrupted by user",
     "output_type": "error",
     "traceback": [
      "\u001b[1;31m---------------------------------------------------------------------------\u001b[0m",
      "\u001b[1;31mKeyboardInterrupt\u001b[0m                         Traceback (most recent call last)",
      "\u001b[1;32m<ipython-input-51-85042fcfcfb2>\u001b[0m in \u001b[0;36m<module>\u001b[1;34m\u001b[0m\n\u001b[0;32m      2\u001b[0m \u001b[0mcantDatos\u001b[0m\u001b[1;33m=\u001b[0m\u001b[0mint\u001b[0m\u001b[1;33m(\u001b[0m\u001b[0minput\u001b[0m\u001b[1;33m(\u001b[0m\u001b[1;34m\"Ingrese la cantidad de datos que quiere rellenar\"\u001b[0m\u001b[1;33m)\u001b[0m\u001b[1;33m)\u001b[0m\u001b[1;33m\u001b[0m\u001b[1;33m\u001b[0m\u001b[0m\n\u001b[0;32m      3\u001b[0m \u001b[1;32mfor\u001b[0m \u001b[0mi\u001b[0m \u001b[1;32min\u001b[0m \u001b[0mrange\u001b[0m\u001b[1;33m(\u001b[0m\u001b[0mcantDatos\u001b[0m\u001b[1;33m)\u001b[0m\u001b[1;33m:\u001b[0m\u001b[1;33m\u001b[0m\u001b[1;33m\u001b[0m\u001b[0m\n\u001b[1;32m----> 4\u001b[1;33m     \u001b[0mclave\u001b[0m\u001b[1;33m=\u001b[0m\u001b[0minput\u001b[0m\u001b[1;33m(\u001b[0m\u001b[1;34m\"Ingrese su primer tipo de datos\"\u001b[0m\u001b[1;33m)\u001b[0m\u001b[1;33m\u001b[0m\u001b[1;33m\u001b[0m\u001b[0m\n\u001b[0m\u001b[0;32m      5\u001b[0m     \u001b[0mprint\u001b[0m\u001b[1;33m(\u001b[0m\u001b[1;34m\"a continuacion debera ingresar el valor de :\"\u001b[0m\u001b[1;33m,\u001b[0m\u001b[0mclave\u001b[0m\u001b[1;33m)\u001b[0m\u001b[1;33m\u001b[0m\u001b[1;33m\u001b[0m\u001b[0m\n\u001b[0;32m      6\u001b[0m     \u001b[0mvalor\u001b[0m\u001b[1;33m=\u001b[0m\u001b[0minput\u001b[0m\u001b[1;33m(\u001b[0m\u001b[1;34m\"ingrese el valor \"\u001b[0m\u001b[1;33m)\u001b[0m\u001b[1;33m\u001b[0m\u001b[1;33m\u001b[0m\u001b[0m\n",
      "\u001b[1;32m~\\Anaconda3\\lib\\site-packages\\ipykernel\\kernelbase.py\u001b[0m in \u001b[0;36mraw_input\u001b[1;34m(self, prompt)\u001b[0m\n\u001b[0;32m    858\u001b[0m                 \u001b[1;34m\"raw_input was called, but this frontend does not support input requests.\"\u001b[0m\u001b[1;33m\u001b[0m\u001b[1;33m\u001b[0m\u001b[0m\n\u001b[0;32m    859\u001b[0m             )\n\u001b[1;32m--> 860\u001b[1;33m         return self._input_request(str(prompt),\n\u001b[0m\u001b[0;32m    861\u001b[0m             \u001b[0mself\u001b[0m\u001b[1;33m.\u001b[0m\u001b[0m_parent_ident\u001b[0m\u001b[1;33m,\u001b[0m\u001b[1;33m\u001b[0m\u001b[1;33m\u001b[0m\u001b[0m\n\u001b[0;32m    862\u001b[0m             \u001b[0mself\u001b[0m\u001b[1;33m.\u001b[0m\u001b[0m_parent_header\u001b[0m\u001b[1;33m,\u001b[0m\u001b[1;33m\u001b[0m\u001b[1;33m\u001b[0m\u001b[0m\n",
      "\u001b[1;32m~\\Anaconda3\\lib\\site-packages\\ipykernel\\kernelbase.py\u001b[0m in \u001b[0;36m_input_request\u001b[1;34m(self, prompt, ident, parent, password)\u001b[0m\n\u001b[0;32m    902\u001b[0m             \u001b[1;32mexcept\u001b[0m \u001b[0mKeyboardInterrupt\u001b[0m\u001b[1;33m:\u001b[0m\u001b[1;33m\u001b[0m\u001b[1;33m\u001b[0m\u001b[0m\n\u001b[0;32m    903\u001b[0m                 \u001b[1;31m# re-raise KeyboardInterrupt, to truncate traceback\u001b[0m\u001b[1;33m\u001b[0m\u001b[1;33m\u001b[0m\u001b[1;33m\u001b[0m\u001b[0m\n\u001b[1;32m--> 904\u001b[1;33m                 \u001b[1;32mraise\u001b[0m \u001b[0mKeyboardInterrupt\u001b[0m\u001b[1;33m(\u001b[0m\u001b[1;34m\"Interrupted by user\"\u001b[0m\u001b[1;33m)\u001b[0m \u001b[1;32mfrom\u001b[0m \u001b[1;32mNone\u001b[0m\u001b[1;33m\u001b[0m\u001b[1;33m\u001b[0m\u001b[0m\n\u001b[0m\u001b[0;32m    905\u001b[0m             \u001b[1;32mexcept\u001b[0m \u001b[0mException\u001b[0m \u001b[1;32mas\u001b[0m \u001b[0me\u001b[0m\u001b[1;33m:\u001b[0m\u001b[1;33m\u001b[0m\u001b[1;33m\u001b[0m\u001b[0m\n\u001b[0;32m    906\u001b[0m                 \u001b[0mself\u001b[0m\u001b[1;33m.\u001b[0m\u001b[0mlog\u001b[0m\u001b[1;33m.\u001b[0m\u001b[0mwarning\u001b[0m\u001b[1;33m(\u001b[0m\u001b[1;34m\"Invalid Message:\"\u001b[0m\u001b[1;33m,\u001b[0m \u001b[0mexc_info\u001b[0m\u001b[1;33m=\u001b[0m\u001b[1;32mTrue\u001b[0m\u001b[1;33m)\u001b[0m\u001b[1;33m\u001b[0m\u001b[1;33m\u001b[0m\u001b[0m\n",
      "\u001b[1;31mKeyboardInterrupt\u001b[0m: Interrupted by user"
     ]
    }
   ],
   "source": [
    "dic={}\n",
    "cantDatos=int(input(\"Ingrese la cantidad de datos que quiere rellenar\"))\n",
    "for i in range(cantDatos):\n",
    "    clave=input(\"Ingrese su primer tipo de datos\")\n",
    "    print(\"a continuacion debera ingresar el valor de :\",clave)\n",
    "    valor=input(\"ingrese el valor \")\n",
    "    dic[clave]=valor\n",
    "    print(dic)"
   ]
  },
  {
   "cell_type": "markdown",
   "metadata": {},
   "source": [
    "## Ejercicio 7"
   ]
  },
  {
   "cell_type": "markdown",
   "metadata": {},
   "source": [
    "Escribir un programa que cree un diccionario simulando una cesta de la compra. El programa debe preguntar el artículo y su precio y añadir el par al diccionario, hasta que el usuario decida terminar. Después se debe mostrar por pantalla la lista de la compra y el coste total, con el siguiente formato\n",
    "<table>\n",
    "<thead>\n",
    "<tr>\n",
    "<th style=\"text-align:left\">Lista de la compra</th>\n",
    "<th style=\"text-align:right\"></th>\n",
    "</tr>\n",
    "</thead>\n",
    "<tbody>\n",
    "<tr>\n",
    "<td style=\"text-align:left\">Artículo 1</td>\n",
    "<td style=\"text-align:right\">Precio</td>\n",
    "</tr>\n",
    "<tr>\n",
    "<td style=\"text-align:left\">Artículo 2</td>\n",
    "<td style=\"text-align:right\">Precio</td>\n",
    "</tr>\n",
    "<tr>\n",
    "<td style=\"text-align:left\">Artículo 3</td>\n",
    "<td style=\"text-align:right\">Precio</td>\n",
    "</tr>\n",
    "<tr>\n",
    "<td style=\"text-align:left\">&hellip;</td>\n",
    "<td style=\"text-align:right\">&hellip;</td>\n",
    "</tr>\n",
    "<tr>\n",
    "<td style=\"text-align:left\">Total</td>\n",
    "<td style=\"text-align:right\">Coste</td>\n",
    "</tr>\n",
    "</tbody>\n",
    "</table>"
   ]
  },
  {
   "cell_type": "code",
   "execution_count": 52,
   "metadata": {},
   "outputs": [
    {
     "name": "stdout",
     "output_type": "stream",
     "text": [
      "Ingresar cantidad de articulos2\n",
      "ingrese el nombre del articuloArbol\n",
      "ingrese el precio del articulo120\n",
      "ingrese el nombre del articuloPera\n",
      "ingrese el precio del articulo180\n",
      "{'Arbol': 120.0, 'Pera': 180.0}\n",
      "Arbol     120.0\n",
      "Pera     180.0\n",
      "total:        300.0\n"
     ]
    }
   ],
   "source": [
    "cantArticulos=int(input(\"Ingresar cantidad de articulos\"))\n",
    "dicc={}\n",
    "for i in range(cantArticulos):\n",
    "    nombreArticulo=input(\"ingrese el nombre del articulo\")\n",
    "    precio=float(input(\"ingrese el precio del articulo\"))\n",
    "    dicc[nombreArticulo]=precio\n",
    "print(dicc)\n",
    "claves=dicc.keys()\n",
    "claves=list(claves)\n",
    "acumulador=0\n",
    "for i in range(len(claves)):\n",
    "    clave=claves[i]\n",
    "    valor=dicc.get(clave)\n",
    "    acumulador=acumulador+valor\n",
    "    print(clave,\"   \",valor)\n",
    "print(\"total:       \",acumulador)"
   ]
  },
  {
   "cell_type": "markdown",
   "metadata": {},
   "source": [
    "## Ejercicio 8"
   ]
  },
  {
   "cell_type": "markdown",
   "metadata": {},
   "source": [
    "Escribir un programa que cree un diccionario de traducción español-inglés. El usuario introducirá las palabras en español e inglés separadas por dos puntos, y cada par <font color=#B40431>&#60;palabra&#62;:&#60;traducción&#62;</font> separados por comas. El programa debe crear un diccionario con las palabras y sus traducciones. Después pedirá una frase en español y utilizará el diccionario para traducirla palabra a palabra. Si una palabra no está en el diccionario debe dejarla sin traducir."
   ]
  },
  {
   "cell_type": "code",
   "execution_count": 16,
   "metadata": {},
   "outputs": [
    {
     "name": "stdout",
     "output_type": "stream",
     "text": [
      "ingrese la cantidad de palabras3\n",
      "ingrese su palabrahola\n",
      "Ingrese la traduccion de la palabrahello\n",
      "ingrese su palabramanzana\n",
      "Ingrese la traduccion de la palabraapple\n",
      "ingrese su palabraarbol\n",
      "Ingrese la traduccion de la palabratree\n",
      "Ingrese su frasehola pera arbol tarzan\n",
      "['hello', 'apple', 'tree']\n",
      "hello pera tree tarzan \n"
     ]
    }
   ],
   "source": [
    "dic={}\n",
    "cantPalabras=int(input(\"ingrese la cantidad de palabras\"))\n",
    "for i in range(cantPalabras):\n",
    "    palabra=input(\"ingrese su palabra\")\n",
    "    traduccion=input(\"Ingrese la traduccion de la palabra\")\n",
    "    dic[palabra]=traduccion\n",
    "frase=input(\"Ingrese su frase\")\n",
    "cad=\"\"\n",
    "frase=frase.split(\" \")\n",
    "valores=dic.values()\n",
    "valores=list(valores)\n",
    "for i in range(len(frase)):\n",
    "    palabra=frase[i]\n",
    "    valor=dic.get(palabra)\n",
    "    if valor in valores:\n",
    "        cad=cad+str(valor)+\" \"\n",
    "    else:\n",
    "        cad=cad+palabra+\" \"\n",
    "print(cad)"
   ]
  },
  {
   "cell_type": "markdown",
   "metadata": {},
   "source": [
    "## Ejercicio 9"
   ]
  },
  {
   "cell_type": "markdown",
   "metadata": {},
   "source": [
    "Escribir un programa que gestione las facturas pendientes de cobro de una empresa. Las facturas se almacenarán en un diccionario donde la clave de cada factura será el número de factura y el valor del total de la factura. El programa debe preguntar al usuario si quiere añadir una nueva factura, pagar una existente o terminar. Si desea añadir una nueva factura se preguntará por el número de factura y su coste y se añadirá al diccionario. Si se desea pagar una factura se preguntará por el número de factura y se eliminará del diccionario. Después de cada operación el programa debe mostrar por pantalla la cantidad cobrada hasta el momento y la cantidad pendiente de cobro."
   ]
  },
  {
   "cell_type": "code",
   "execution_count": 55,
   "metadata": {},
   "outputs": [
    {
     "name": "stdout",
     "output_type": "stream",
     "text": [
      "ingrese su cantidad de facturas1\n",
      "ingrese el numero de factura2\n",
      "Ingrese el valor de la factura100\n",
      "ingrese A si quiere añadir una nueva factura, P si quiere pagar una factura o T para terminarA\n",
      "ingrese el numero de la factura2\n",
      "ingrese el valor de la factura300\n",
      "400.0\n"
     ]
    }
   ],
   "source": [
    "dic={}\n",
    "recaudado=0\n",
    "pendiente=0\n",
    "cantFacturas=int(input(\"ingrese su cantidad de facturas\"))\n",
    "for i in range(cantFacturas):\n",
    "    numFactura=int(input(\"ingrese el numero de factura\"))\n",
    "    valorTotal=float(input(\"Ingrese el valor de la factura\"))\n",
    "    dic[numFactura]=valorTotal\n",
    "    pendiente=pendiente+valorTotal\n",
    "    print(\"pendiente a pagaar\",pendiente)\n",
    "decision=input(\"ingrese A si quiere añadir una nueva factura, P si quiere pagar una factura o T para terminar\")\n",
    "if decision==\"A\":\n",
    "    numFactura=int(input(\"ingrese el numero de la factura\"))\n",
    "    valorTotal=float(input(\"ingrese el valor de la factura\"))\n",
    "    dic[numFactura]=valorTotal\n",
    "    pendiente=pendiente+valorTotal\n",
    "    print(\"pendiente a pagar\",pendiente)\n",
    "elif decision==\"P\":\n",
    "    numFactura=int(input(\"ingrese el nombre de la factura\"))\n",
    "    if numFactura in dic:\n",
    "        valor=dic[numFactura]\n",
    "        recaudado=recaudado+valor\n",
    "        pendiente=pendiente-valor\n",
    "        del dic[numFactura]\n",
    "        print(\"total recaudado:\",recaudado)\n",
    "        print(\"pendiente a pagar:\",pendiente)\n",
    "elif decision==\"T\":\n",
    "    print(dic)\n",
    "else:\n",
    "    print(\"Debe ingresar alguna de las letras mencionadas anteriormente\")"
   ]
  },
  {
   "cell_type": "markdown",
   "metadata": {},
   "source": [
    "## Ejercicio 10"
   ]
  },
  {
   "cell_type": "markdown",
   "metadata": {},
   "source": [
    "Escribir un programa que permita gestionar la base de datos de clientes de una empresa. Los clientes se guardarán en un diccionario en el que la clave de cada cliente será su DNI, y el valor será otro diccionario con los datos del cliente (nombre, dirección, teléfono, correo, preferente), donde preferente tendrá el valor True si se trata de un cliente preferente. El programa debe preguntar al usuario por una opción del siguiente menú: (1) Añadir cliente, (2) Eliminar cliente, (3) Mostrar cliente, (4) Listar todos los clientes, (5) Listar clientes preferentes, (6) Terminar. En función de la opción elegida el programa tendrá que hacer lo siguiente:\n",
    "<ol>\n",
    "<li>Preguntar los datos del cliente, crear un diccionario con los datos y añadirlo a la base de datos.</li>\n",
    "<li>Preguntar por el DNI del cliente y eliminar sus datos de la base de datos.</li>\n",
    "<li>Preguntar por el DNI del cliente y mostrar sus datos.</li>\n",
    "<li>Mostrar lista de todos los clientes de la base datos con su DNI y nombre.</li>\n",
    "<li>Mostrar la lista de clientes preferentes de la base de datos con su DNI y nombre.</li>\n",
    "<li>Terminar el programa.</li>\n",
    "</ol>"
   ]
  },
  {
   "cell_type": "code",
   "execution_count": 22,
   "metadata": {},
   "outputs": [
    {
     "name": "stdout",
     "output_type": "stream",
     "text": [
      "ingrese la cantidad de clientes1\n",
      "ingrese su dni1234567\n",
      "su dni debe contener 8 numeros\n",
      "ingrese su dni123456789\n",
      "su dni debe contener 8 numeros\n",
      "ingrese su dni12345678\n",
      "ingrese su nombrefacundo\n",
      "ingrese su direccionalbarellos\n",
      "ingrese su telefono12344\n",
      "Ingrese su correofacumarianelli@gmail.com\n",
      "ingrese True si es un cliente preferente o False si no es un cliente preferenteTrue\n",
      "ingrese que desea hacer :1 ,2 ,3 ,4 5, o 61\n",
      "ingrese su dni43687777\n",
      "ingrese su nombreandres\n",
      "ingrese su direccionalba\n",
      "ingrese su telefono12321\n",
      "Ingrese su correofacu@gmail.com\n",
      "ingrese True o FalseFalse\n",
      "False\n",
      "{12345678: ['facundo', 'albarellos', 12344, 'facumarianelli@gmail.com', 'True'], 43687777: ['andres', 'alba', 12321, 'facu@gmail.com', 'False']}\n",
      "ingrese que desea hacer :1 ,2 ,3 ,4 5, o 62\n",
      "ingrese el dni12345678\n",
      "ingrese que desea hacer :1 ,2 ,3 ,4 5, o 63\n",
      "ingrese el dni y a continuacion observara sus datos818\n",
      "su dni debe contener 8 numeros\n",
      "ingrese su dni123456789\n",
      "su dni debe contener 8 numeros\n",
      "ingrese su dni43687777\n",
      "['andres', 'alba', 12321, 'facu@gmail.com', 'False']\n",
      "ingrese que desea hacer :1 ,2 ,3 ,4 5, o 64\n",
      "43687777 andres\n",
      "ingrese que desea hacer :1 ,2 ,3 ,4 5, o 65\n",
      "ingrese que desea hacer :1 ,2 ,3 ,4 5, o 66\n",
      "termino el programa\n"
     ]
    }
   ],
   "source": [
    "datos={}\n",
    "cantClientes=int(input(\"ingrese la cantidad de clientes\"))\n",
    "for i in range(cantClientes):\n",
    "    dni=int(input(\"ingrese su dni\"))\n",
    "    while (len(str(dni))!=8):\n",
    "        print(\"su dni debe contener 8 numeros\")\n",
    "        dni=int(input(\"ingrese su dni\"))\n",
    "    valores=[]\n",
    "    nombre=input(\"ingrese su nombre\")\n",
    "    valores.append(nombre)\n",
    "    direccion=input(\"ingrese su direccion\")\n",
    "    valores.append(direccion)\n",
    "    telefono=int(input(\"ingrese su telefono\"))\n",
    "    valores.append(telefono)\n",
    "    correo=input(\"Ingrese su correo\")\n",
    "    while \"@\" and \".com\" not in correo:\n",
    "        print(\"su correo debe contener el :@ y .com\")\n",
    "        correo=input(\"Ingrese su correo\")\n",
    "    valores.append(correo)\n",
    "    prefente=input(\"ingrese True si es un cliente preferente o False si no es un cliente preferente\")\n",
    "    while prefente!=\"True\" and prefente!=\"False\":\n",
    "        print(\"recuerde que solo puede ser True o False\")\n",
    "        prefente=input(\"ingrese True si es un cliente preferente o False si no es un cliente preferente\")\n",
    "    valores.append(prefente)\n",
    "    datos[dni]=valores\n",
    "menu=int(input(\"ingrese que desea hacer :1 ,2 ,3 ,4 5, o 6\"))\n",
    "while menu!=6:\n",
    "    if menu==1:\n",
    "        dni=int(input(\"ingrese su dni\"))\n",
    "        while (len(str(dni))!=8):\n",
    "            print(\"su dni debe contener 8 numeros\")\n",
    "            dni=int(input(\"ingrese su dni\"))\n",
    "        valores=[]\n",
    "        nombre=input(\"ingrese su nombre\")\n",
    "        valores.append(nombre)\n",
    "        direccion=input(\"ingrese su direccion\")\n",
    "        valores.append(direccion)\n",
    "        telefono=int(input(\"ingrese su telefono\"))\n",
    "        valores.append(telefono)\n",
    "        correo=input(\"Ingrese su correo\")\n",
    "        while \"@\" and \".com\" not in correo:\n",
    "            print(\"su coreo debe contener el :@ y .com\")\n",
    "            correo=input(\"Ingrese su correo\")\n",
    "        valores.append(correo)\n",
    "        prefente=input(\"ingrese True o False\")\n",
    "        print(prefente)\n",
    "        while prefente!=\"True\" and prefente!=\"False\":\n",
    "            print(\"recuerde que solo puede ser True o False\")\n",
    "            prefente=input(\"ingrese True si es un cliente preferente o False si no es un cliente preferente\")\n",
    "        valores.append(prefente)\n",
    "        datos[dni]=valores\n",
    "        print(datos)\n",
    "    elif menu==2:\n",
    "        dni=int(input(\"ingrese el dni\"))\n",
    "        while (len(str(dni))!=8):\n",
    "            print(\"su dni debe contener 8 numeros\")\n",
    "            dni=int(input(\"ingrese su dni\"))\n",
    "        if dni in datos:\n",
    "            del datos[dni]\n",
    "        else:\n",
    "            print(\"No se encuentra en nuestra base de datos\")\n",
    "    elif menu==3:\n",
    "        dni=int(input(\"ingrese el dni y a continuacion observara sus datos\"))\n",
    "        while (len(str(dni))!=8):\n",
    "            print(\"su dni debe contener 8 numeros\")\n",
    "            dni=int(input(\"ingrese su dni\"))\n",
    "        values=datos.get(dni)\n",
    "        print(values)\n",
    "    elif menu==4:\n",
    "        dnis=datos.keys()\n",
    "        dnis=list(dnis)\n",
    "        values2=datos.values()\n",
    "        values=list(values2)\n",
    "        for i in range(len(dnis)):\n",
    "            print(dnis[i],values[i][i])\n",
    "    elif menu==5:\n",
    "        dniss=datos.keys()\n",
    "        dniss=list(dniss)\n",
    "        values3=datos.values()\n",
    "        values3=list(values3)\n",
    "        for i in range(len(dniss)):\n",
    "            indice=len(values3[i])-1\n",
    "            prefrencia=values3[i][indice]\n",
    "            if prefrencia==\"True\":\n",
    "                print(dniss[i],values3[i][i])\n",
    "    menu=int(input(\"ingrese que desea hacer :1 ,2 ,3 ,4 5, o 6\"))\n",
    "print(\"termino el programa\")\n"
   ]
  },
  {
   "cell_type": "markdown",
   "metadata": {},
   "source": [
    "# "
   ]
  },
  {
   "cell_type": "code",
   "execution_count": null,
   "metadata": {},
   "outputs": [],
   "source": []
  }
 ],
 "metadata": {
  "kernelspec": {
   "display_name": "Python 3",
   "language": "python",
   "name": "python3"
  },
  "language_info": {
   "codemirror_mode": {
    "name": "ipython",
    "version": 3
   },
   "file_extension": ".py",
   "mimetype": "text/x-python",
   "name": "python",
   "nbconvert_exporter": "python",
   "pygments_lexer": "ipython3",
   "version": "3.8.3"
  }
 },
 "nbformat": 4,
 "nbformat_minor": 2
}
