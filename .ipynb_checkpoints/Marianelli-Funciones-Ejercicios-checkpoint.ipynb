{
 "cells": [
  {
   "cell_type": "markdown",
   "metadata": {},
   "source": [
    "# Ejercicios de Programación Funcional"
   ]
  },
  {
   "cell_type": "markdown",
   "metadata": {},
   "source": [
    "# Ejercicio 1"
   ]
  },
  {
   "cell_type": "markdown",
   "metadata": {},
   "source": [
    "Escribir una función que aplique un descuento a un precio y otra que aplique el IVA a un precio. Escribir una tercera función que reciba un diccionario con los precios y porcentajes de una cesta de la compra, y una de las funciones anteriores, y utilice la función pasada para aplicar los descuentos o el IVA a los productos de la canasta y devolver el precio final de la canasta."
   ]
  },
  {
   "cell_type": "code",
   "execution_count": null,
   "metadata": {},
   "outputs": [],
   "source": [
    "def aplicarDescuento(precio):\n",
    "    \n",
    "def iva(precio):\n",
    "    precioAux=precio*0.21\n",
    "    precioFinal=precioAux+precio\n",
    "    return precioFinal\n",
    "\n",
    "    "
   ]
  },
  {
   "cell_type": "markdown",
   "metadata": {},
   "source": [
    "# Ejercicio 2"
   ]
  },
  {
   "cell_type": "markdown",
   "metadata": {},
   "source": [
    "Escribir una función que simule una calculadora científica que permita calcular el seno, coseno, tangente, exponencial y logaritmo neperiano. La función preguntará al usuario el valor y la función a aplicar, y mostrará por pantalla una tabla con los enteros de 1 al valor introducido y el resultado de aplicar la función a esos enteros."
   ]
  },
  {
   "cell_type": "code",
   "execution_count": 11,
   "metadata": {},
   "outputs": [
    {
     "name": "stdout",
     "output_type": "stream",
     "text": [
      "ingrese el valor12\n",
      "ingrese la funcion a aplicarS\n",
      "0.8414709848078965\n",
      "0.9092974268256817\n",
      "0.1411200080598672\n",
      "-0.7568024953079282\n",
      "-0.9589242746631385\n",
      "-0.27941549819892586\n",
      "0.6569865987187891\n",
      "0.9893582466233818\n",
      "0.4121184852417566\n",
      "-0.5440211108893698\n",
      "-0.9999902065507035\n"
     ]
    }
   ],
   "source": [
    "import numpy as np\n",
    "def calculadoraCientifica():\n",
    "    num=int(input(\"ingrese el valor\"))\n",
    "    funcionAAplicar=input(\"ingrese la funcion a aplicar\")\n",
    "    resultado=0\n",
    "    if funcionAAplicar==\"S\":\n",
    "        for i in range(1,num):\n",
    "            resultado=np.sin(i)\n",
    "            print(resultado)           \n",
    "    elif funcionAAplicar==\"C\":\n",
    "        for i in range(1,num):\n",
    "            resultado=np.cos(i)\n",
    "            print(resultado)\n",
    "    elif funcionAAplicar==\"T\":\n",
    "        for i in range(1,num):\n",
    "            resultado=np.tan(i)\n",
    "            print(resultado)\n",
    "calculadoraCientifica()\n",
    "\n"
   ]
  },
  {
   "cell_type": "markdown",
   "metadata": {},
   "source": [
    "# Ejercicio 3"
   ]
  },
  {
   "cell_type": "markdown",
   "metadata": {},
   "source": [
    "Escribir una función que reciba otra función y una lista, y devuelva otra lista con el resultado de aplicar la función dada a cada uno de los elementos de la lista."
   ]
  },
  {
   "cell_type": "code",
   "execution_count": 46,
   "metadata": {},
   "outputs": [
    {
     "name": "stdout",
     "output_type": "stream",
     "text": [
      "[1, 3, 5]\n"
     ]
    }
   ],
   "source": [
    "def primos(lista):\n",
    "    listaAux=[]\n",
    "    for i in range(len(lista)):\n",
    "        if lista[i]%2!=0:\n",
    "            listaAux.append(lista[i])\n",
    "    return listaAux\n",
    "def main(lista):\n",
    "    listaFinal=primos(lista)\n",
    "    print(listaFinal)\n",
    "lista=[1,2,3,4,5,6]\n",
    "main(lista)"
   ]
  },
  {
   "cell_type": "markdown",
   "metadata": {},
   "source": [
    "# Ejercicio 4"
   ]
  },
  {
   "cell_type": "markdown",
   "metadata": {},
   "source": [
    "Escribir una función que reciba otra función booleana y una lista, y devuelva otra lista con los elementos de la lista que devuelvan True al aplicarles la función booleana."
   ]
  },
  {
   "cell_type": "code",
   "execution_count": null,
   "metadata": {},
   "outputs": [],
   "source": []
  },
  {
   "cell_type": "markdown",
   "metadata": {},
   "source": [
    "# Ejercicio 5"
   ]
  },
  {
   "cell_type": "markdown",
   "metadata": {},
   "source": [
    "Escribir una función que reciba una frase y devuelva un diccionario con las palabras que contiene y su longitud."
   ]
  },
  {
   "cell_type": "code",
   "execution_count": 21,
   "metadata": {},
   "outputs": [
    {
     "data": {
      "text/plain": [
       "{'hola': 4, 'como': 4, 'estas': 5}"
      ]
     },
     "execution_count": 21,
     "metadata": {},
     "output_type": "execute_result"
    }
   ],
   "source": [
    "def frase(cad):\n",
    "    dic={}\n",
    "    cad=cad.split(\" \")\n",
    "    for i in range(len(cad)):\n",
    "        palabra=cad[i]\n",
    "        long=len(palabra)\n",
    "        dic[palabra]=long\n",
    "    return dic\n",
    "frase(\"hola como estas\")"
   ]
  },
  {
   "cell_type": "markdown",
   "metadata": {},
   "source": [
    "# Ejercicio 6"
   ]
  },
  {
   "cell_type": "markdown",
   "metadata": {},
   "source": [
    "Escribir una función reciba una lista de notas y devuelva la lista de calificaciones correspondientes a esas notas."
   ]
  },
  {
   "cell_type": "code",
   "execution_count": 50,
   "metadata": {},
   "outputs": [
    {
     "data": {
      "text/plain": [
       "['uno', 'tres', 'dos', 'uno', 'cinco', 'uno', 'ocho', 'nueve']"
      ]
     },
     "execution_count": 50,
     "metadata": {},
     "output_type": "execute_result"
    }
   ],
   "source": [
    "def devolverCalifiaciones(listaNotas):\n",
    "    listaCalif=[]\n",
    "    notas=[\"cero\",\"uno\",\"dos\",\"tres\",\"cuatro\",\"cinco\",\"seis\",\"siete\",\"ocho\",\"nueve\",\"diez\"]\n",
    "    for i in range(len(listaNotas)):\n",
    "        valor=listaNotas[i]\n",
    "        if valor>10:\n",
    "            print(\"la nota ingresada es fuera del 1 y 10\")\n",
    "        else:\n",
    "            listaCalif.append(notas[valor])\n",
    "    return listaCalif\n",
    "        \n",
    "lista=[1,3,2,1,5,1,8,9]        \n",
    "devolverCalifiaciones(lista)        "
   ]
  },
  {
   "cell_type": "markdown",
   "metadata": {},
   "source": [
    "# Ejercicio 7"
   ]
  },
  {
   "cell_type": "markdown",
   "metadata": {},
   "source": [
    "Escribir una función reciba un diccionario con las asignaturas y las notas de un alumno y devuelva otro diccionario con las asignaturas en mayúsculas y las calificaciones correspondientes a las notas."
   ]
  },
  {
   "cell_type": "code",
   "execution_count": 43,
   "metadata": {},
   "outputs": [
    {
     "name": "stdout",
     "output_type": "stream",
     "text": [
      "{'QUIMICA': 'nueve', 'FISICA': 'diez', 'MATEMATICA': 'seis'}\n"
     ]
    }
   ],
   "source": [
    "def obtenerCalificacion(nota):\n",
    "    notas=[\"uno\",\"dos\",\"tres\",\"cuatro\",\"cinco\",\"seis\",\"siete\",\"ocho\",\"nueve\",\"diez\"]\n",
    "    calificacion=notas[nota]\n",
    "    return calificacion\n",
    "def ej7(dicc):\n",
    "    diccFinal={}\n",
    "    asignaturas=dicc.keys()\n",
    "    asignaturas=list(asignaturas)\n",
    "    for i in range (len(asignaturas)):\n",
    "        asignatura=asignaturas[i]\n",
    "        valor=dicc.get(asignatura)\n",
    "        asignatura=asignatura.upper()\n",
    "        valor=obtenerCalificacion(valor)\n",
    "        diccFinal[asignatura]=valor\n",
    "    print(diccFinal)\n",
    "dicc={\"quimica\":8,\"fisica\":9,\"matematica\":5}\n",
    "ej7(dicc)"
   ]
  },
  {
   "cell_type": "markdown",
   "metadata": {},
   "source": [
    "# Ejercicio 8"
   ]
  },
  {
   "cell_type": "markdown",
   "metadata": {},
   "source": [
    "Escribir una función reciba un diccionario con las asignaturas y las notas de un alumno y devuelva otro diccionario con las asignaturas en mayúsculas y las calificaciones correspondientes a las notas aprobadas."
   ]
  },
  {
   "cell_type": "code",
   "execution_count": null,
   "metadata": {},
   "outputs": [],
   "source": []
  },
  {
   "cell_type": "markdown",
   "metadata": {},
   "source": [
    "# Ejercicio 9"
   ]
  },
  {
   "cell_type": "markdown",
   "metadata": {},
   "source": [
    "Escribir una función que calcule el módulo de un vector."
   ]
  },
  {
   "cell_type": "code",
   "execution_count": null,
   "metadata": {},
   "outputs": [],
   "source": []
  },
  {
   "cell_type": "markdown",
   "metadata": {},
   "source": [
    "# Ejercicio 10"
   ]
  },
  {
   "cell_type": "markdown",
   "metadata": {},
   "source": [
    "Una inmobiliaria de una ciudad maneja una lista de inmuebles como la siguiente:\n",
    "\n",
    "<pre><code class=\"language-python\">[{'año': 2000, 'metros': 100, 'habitaciones': 3, 'garaje': True, 'zona': 'A'},\n",
    "{'año': 2012, 'metros': 60, 'habitaciones': 2, 'garaje': True, 'zona': 'B'},\n",
    "{'año': 1980, 'metros': 120, 'habitaciones': 4, 'garaje': False, 'zona': 'A'},\n",
    "{'año': 2005, 'metros': 75, 'habitaciones': 3, 'garaje': True, 'zona': 'B'},\n",
    "{'año': 2015, 'metros': 90, 'habitaciones': 2, 'garaje': False, 'zona': 'A'}]\n",
    "</code></pre>\n",
    "\n",
    "Construir una función que permita hacer búsqueda de inmuebles en función de un presupuesto dado. La función recibirá como entrada la lista de inmuebles y un precio, y devolverá otra lista con los inmuebles cuyo precio sea menor o igual que el dado. Los inmuebles de la lista que se devuelva deben incorporar un nuevo par a cada diccionario con el precio del inmueble, donde el precio de un inmueble se calcula con las siguiente fórmula en función de la zona:\n",
    "\n",
    "<ul>\n",
    "<li>Zona A: precio = (metros * 1000 + habitaciones * 5000 + garaje * 15000) * (1-antiguedad/100)</li>\n",
    "<li>Zona B: precio = (metros * 1000 + habitaciones * 5000 + garaje * 15000) * (1-antiguedad/100) * 1.5</li>\n",
    "</ul>"
   ]
  },
  {
   "cell_type": "code",
   "execution_count": null,
   "metadata": {},
   "outputs": [],
   "source": []
  },
  {
   "cell_type": "markdown",
   "metadata": {},
   "source": [
    "# Ejercicio 11"
   ]
  },
  {
   "cell_type": "markdown",
   "metadata": {},
   "source": [
    "Escribir una función que reciba una muestra de números y devuelva los valores atípicos, es decir, los valores cuya puntuación típica sea mayor que 3 o menor que -3. \n",
    "\n",
    "**Nota**: La puntuación típica de un valor se obtiene restando la media y dividiendo por la desviación típica de la muestra."
   ]
  },
  {
   "cell_type": "code",
   "execution_count": null,
   "metadata": {},
   "outputs": [],
   "source": []
  }
 ],
 "metadata": {
  "kernelspec": {
   "display_name": "Python 3",
   "language": "python",
   "name": "python3"
  },
  "language_info": {
   "codemirror_mode": {
    "name": "ipython",
    "version": 3
   },
   "file_extension": ".py",
   "mimetype": "text/x-python",
   "name": "python",
   "nbconvert_exporter": "python",
   "pygments_lexer": "ipython3",
   "version": "3.8.3"
  }
 },
 "nbformat": 4,
 "nbformat_minor": 2
}
