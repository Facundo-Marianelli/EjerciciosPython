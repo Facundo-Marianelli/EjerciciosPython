{
 "cells": [
  {
   "cell_type": "markdown",
   "metadata": {},
   "source": [
    "# Ejercicios de Tipos de Datos Simples"
   ]
  },
  {
   "cell_type": "markdown",
   "metadata": {},
   "source": [
    "## Ejercicio 1"
   ]
  },
  {
   "cell_type": "markdown",
   "metadata": {},
   "source": [
    "Escribir un programa que muestre por pantalla la cadena <font color=#B40431>¡Hola Mundo!</font>"
   ]
  },
  {
   "cell_type": "code",
   "execution_count": 1,
   "metadata": {},
   "outputs": [
    {
     "name": "stdout",
     "output_type": "stream",
     "text": [
      "Hola mundo\n"
     ]
    }
   ],
   "source": [
    "print('Hola mundo')"
   ]
  },
  {
   "cell_type": "markdown",
   "metadata": {},
   "source": [
    "## Ejercicio 2"
   ]
  },
  {
   "cell_type": "markdown",
   "metadata": {},
   "source": [
    "Escribir un programa que almacene la cadena <font color=#B40431>¡Hola Mundo!</font> en una variable y luego muestre por pantalla el contenido de la variable."
   ]
  },
  {
   "cell_type": "code",
   "execution_count": 2,
   "metadata": {},
   "outputs": [
    {
     "name": "stdout",
     "output_type": "stream",
     "text": [
      "¡Hola Mundo!\n"
     ]
    }
   ],
   "source": [
    "cad=\"¡Hola Mundo!\"\n",
    "print(cad)"
   ]
  },
  {
   "cell_type": "markdown",
   "metadata": {},
   "source": [
    "## Ejercicio 3"
   ]
  },
  {
   "cell_type": "markdown",
   "metadata": {},
   "source": [
    "Escribir un programa que pregunte el nombre del usuario en la consola y después de que el usuario lo introduzca muestre por pantalla la cadena <font color=#B40431>¡Hola &#60;nombre&#62;!</font>, donde <font color=#B40431>&#60;nombre&#62;</font> es el nombre que el usuario haya introducido."
   ]
  },
  {
   "cell_type": "code",
   "execution_count": 1,
   "metadata": {},
   "outputs": [
    {
     "name": "stdout",
     "output_type": "stream",
     "text": [
      "Ingresar Nombrefacundo\n",
      "¡Hola facundo!\n"
     ]
    }
   ],
   "source": [
    "nombre= input(\"Ingresar Nombre: \")\n",
    "print(\"¡Hola\",nombre+\"!\")"
   ]
  },
  {
   "cell_type": "markdown",
   "metadata": {},
   "source": []
  },
  {
   "cell_type": "markdown",
   "metadata": {},
   "source": [
    "Escribir un programa que pregunte el nombre del usuario en la consola y un número entero e imprima por pantalla en líneas distintas el nombre del usuario tantas veces como el número introducido."
   ]
  },
  {
   "cell_type": "code",
   "execution_count": 7,
   "metadata": {},
   "outputs": [
    {
     "name": "stdout",
     "output_type": "stream",
     "text": [
      "Ingresar nombrefacundo\n",
      "ingresar numero12\n",
      "facundo \n",
      " 12\n"
     ]
    }
   ],
   "source": [
    "nombre= input(\"Ingresar nombre: \")\n",
    "numero=int(input(\"ingresar numero: \"))\n",
    "print(nombre,\"\\n\",numero)"
   ]
  },
  {
   "cell_type": "markdown",
   "metadata": {},
   "source": [
    "### Ejercicio 5"
   ]
  },
  {
   "cell_type": "markdown",
   "metadata": {},
   "source": [
    "Escribir un programa que pregunte el nombre del usuario en la consola y después de que el usuario lo introduzca muestre por pantalla <font color=#B40431>&#60;NOMBRE&#62; tiene &#60;n&#62; letras</font>, donde <font color=#B40431>&#60;NOMBRE&#62;</font> es el nombre de usuario en mayúsculas y <font color=#B40431>&#60;n&#62;</font> es el número de letras que tienen el nombre."
   ]
  },
  {
   "cell_type": "code",
   "execution_count": 12,
   "metadata": {},
   "outputs": [
    {
     "name": "stdout",
     "output_type": "stream",
     "text": [
      "Ingresar nombreSol\n",
      "Sol tiene 3 letras donde SOL es el nombre y n es el numero de letras que tiene el nombre\n"
     ]
    }
   ],
   "source": [
    "nombre= input(\"Ingresar nombre\")\n",
    "n=len(nombre)\n",
    "print(nombre,\"tiene\",n,\"letras donde\",(nombre.upper()),\"es el nombre y n es el numero de letras que tiene el nombre\")"
   ]
  },
  {
   "cell_type": "markdown",
   "metadata": {},
   "source": [
    "## Ejercicio 6"
   ]
  },
  {
   "cell_type": "markdown",
   "metadata": {},
   "source": [
    "Escribir un programa que realice la siguiente operación aritmética $\\left(\\frac{3+2}{2\\cdot 5}\\right)^2$"
   ]
  },
  {
   "cell_type": "code",
   "execution_count": 41,
   "metadata": {},
   "outputs": [
    {
     "name": "stdout",
     "output_type": "stream",
     "text": [
      "0.25\n"
     ]
    }
   ],
   "source": [
    "n1=3+2\n",
    "n2=2.5\n",
    "resultadoParcial=n1/n2\n",
    "resultadoFinal=resultadoParcial**2\n",
    "print(resultadoFinal)"
   ]
  },
  {
   "cell_type": "markdown",
   "metadata": {},
   "source": [
    "## Ejercicio 7"
   ]
  },
  {
   "cell_type": "markdown",
   "metadata": {},
   "source": [
    "Escribir un programa que pregunte al usuario por el número de horas trabajadas y el costo por hora. Después debe mostrar por pantalla el sueldo que le corresponde."
   ]
  },
  {
   "cell_type": "code",
   "execution_count": 16,
   "metadata": {},
   "outputs": [
    {
     "name": "stdout",
     "output_type": "stream",
     "text": [
      "ingresar horas trabajadas2\n",
      "ingesar costo de la hora23\n",
      "46\n"
     ]
    }
   ],
   "source": [
    "horas=int(input(\"ingresar horas trabajadas\"))\n",
    "valorHora=int(input(\"ingesar costo de la hora\"))\n",
    "sueldo=horas*valorHora\n",
    "print(\"el sueldo es:\",sueldo)"
   ]
  },
  {
   "cell_type": "markdown",
   "metadata": {},
   "source": [
    "## Ejercicio 8"
   ]
  },
  {
   "cell_type": "markdown",
   "metadata": {},
   "source": [
    "Escribir un programa que lea un entero positivo, $n$, introducido por el usuario y después muestre en pantalla la suma de todos los enteros desde 1 hasta $n$. La suma de los $n$ primeros enteros positivos puede ser calculada de la siguiente forma: $ \\mbox{suma} = \\frac{n(n+1)}{2} $"
   ]
  },
  {
   "cell_type": "code",
   "execution_count": 23,
   "metadata": {},
   "outputs": [
    {
     "name": "stdout",
     "output_type": "stream",
     "text": [
      "ingresar entero positivo5\n",
      "15.0\n"
     ]
    }
   ],
   "source": [
    "n=int(input(\"ingresar entero positivo\"))\n",
    "sumaParcial=n*(n+1)\n",
    "sumaFinal=sumaParcial/2\n",
    "print(sumaFinal)"
   ]
  },
  {
   "cell_type": "markdown",
   "metadata": {},
   "source": [
    "## Ejercicio 9"
   ]
  },
  {
   "cell_type": "markdown",
   "metadata": {},
   "source": [
    "Escribir un programa que pida al usuario su peso (en kg) y estatura (en metros), calcule el índice de masa corporal y lo almacene en una variable, y muestre por pantalla la frase <font color=#B40431>\"Tu índice de masa corporal es\"&#60;imc&#62;</font> donde <font color=#B40431>&#60;imc&#62;</font> es el índice de masa corporal calculado redondeado con dos decimales."
   ]
  },
  {
   "cell_type": "code",
   "execution_count": 25,
   "metadata": {
    "scrolled": true
   },
   "outputs": [
    {
     "name": "stdout",
     "output_type": "stream",
     "text": [
      "ingresar peso45\n",
      "ingresar estatura12\n",
      "Tu indice se masa corporal es 1.88\n"
     ]
    }
   ],
   "source": [
    "peso=int(input(\"ingresar peso\"))\n",
    "estatura=int(input(\"ingresar estatura\"))\n",
    "estaturaParaLaFormula=estatura*2\n",
    "masaCorporal=peso/estaturaParaLaFormula\n",
    "print(\"Tu indice se masa corporal es\",\"{:.02f}\".format(masaCorporal))"
   ]
  },
  {
   "cell_type": "markdown",
   "metadata": {},
   "source": [
    "## Ejercicio 10"
   ]
  },
  {
   "cell_type": "markdown",
   "metadata": {},
   "source": [
    "Escribir un programa que pida al usuario dos números enteros y muestre por pantalla la <font color=#B40431>&#60;n&#62;</font> entre <font color=#B40431>&#60;m&#62;</font> da un cociente <font color=#B40431>&#60;c&#62;</font> y un resto <font color=#B40431>&#60;r&#62;</font> donde <font color=#B40431>&#60;n&#62;</font> y <font color=#B40431>&#60;m&#62;</font> son los números introducidos por el usuario, y <font color=#B40431>&#60;c&#62;</font> y <font color=#B40431>&#60;r&#62;</font> son el cociente y el resto de la división entera respectivamente."
   ]
  },
  {
   "cell_type": "code",
   "execution_count": 29,
   "metadata": {},
   "outputs": [
    {
     "name": "stdout",
     "output_type": "stream",
     "text": [
      "ingresar primer numero4\n",
      "ingresar segundo numero3\n",
      "El usuario ingreso 4 y 3 El cociente de la division es  1 Y el resto es: 1\n"
     ]
    }
   ],
   "source": [
    "n1=int(input(\"ingresar primer numero\"))\n",
    "n2=int(input(\"ingresar segundo numero\"))\n",
    "resto=n1%n2\n",
    "cociente=n1//n2\n",
    "print(\"El usuario ingreso\",n1,\"y\",n2,\"El cociente de la division es \",cociente,\"Y el resto es:\",resto)"
   ]
  },
  {
   "cell_type": "markdown",
   "metadata": {},
   "source": [
    "## Ejercicio 11"
   ]
  },
  {
   "cell_type": "markdown",
   "metadata": {},
   "source": [
    "Escribir un programa que pregunte al usuario una cantidad a invertir, el interés anual y el número de años, y muestre por pantalla el capital obtenido en la inversión."
   ]
  },
  {
   "cell_type": "code",
   "execution_count": 40,
   "metadata": {},
   "outputs": [
    {
     "name": "stdout",
     "output_type": "stream",
     "text": [
      "ingresar cantidad a invertir100\n",
      "Ingresar interes anual40\n",
      "ingresar cantidad de años 2\n",
      "El capital obtenido en la inversion es: 80.0\n"
     ]
    }
   ],
   "source": [
    "cantAInvertir= int(input(\"ingresar cantidad a invertir\"))\n",
    "interesAnual=int(input(\"Ingresar interes anual\"))\n",
    "numAños=int(input(\"ingresar cantidad de años \"))\n",
    "valor=interesAnual*numAños\n",
    "valor=valor/100\n",
    "total=cantAInvertir+cantAInvertir*valor\n",
    "total=total-cantAInvertir\n",
    "print(\"El capital obtenido en la inversion es:\",total)"
   ]
  },
  {
   "cell_type": "markdown",
   "metadata": {},
   "source": [
    "## Ejercicio 12"
   ]
  },
  {
   "cell_type": "markdown",
   "metadata": {},
   "source": [
    "Una juguetería tiene mucho éxito en dos de sus productos: payasos y muñecas. Suele hacer venta por correo y la empresa de logística les cobra por peso de cada paquete así que deben calcular el peso de los payasos y muñecas que saldrán en cada paquete a demanda. Cada payaso pesa 112 g y cada muñeca 75 g. Escribir un programa que lea el número de payasos y muñecas vendidos en el último pedido y calcule el peso total del paquete que será enviado."
   ]
  },
  {
   "cell_type": "code",
   "execution_count": 43,
   "metadata": {},
   "outputs": [
    {
     "name": "stdout",
     "output_type": "stream",
     "text": [
      "Ingresar cant de payasos vendidos1\n",
      "Ingreasr cant de muñecas vendidas1\n",
      "el peso total del paquete es: 187\n"
     ]
    }
   ],
   "source": [
    "pesoPayaso=112\n",
    "pesoMuñeca=75\n",
    "\n",
    "numPayasos=int(input(\"Ingresar cant de payasos vendidos\"))\n",
    "numMuñecas=int(input(\"Ingreasr cant de muñecas vendidas\"))\n",
    "pesoTotalPayasos=numPayasos*pesoPayaso\n",
    "pesoTotalMuñecas=numMuñecas*pesoMuñeca\n",
    "pesoFinal=pesoTotalPayasos+pesoTotalMuñecas\n",
    "print(\"el peso total del paquete es:\",pesoFinal)\n",
    "\n"
   ]
  },
  {
   "cell_type": "markdown",
   "metadata": {},
   "source": [
    "## Ejercicio 13"
   ]
  },
  {
   "cell_type": "markdown",
   "metadata": {},
   "source": [
    "Imagina que acabas de abrir una nueva cuenta de ahorros que te ofrece el 20 &#37; de interés al año. Estos ahorros debido a intereses, que no se cobran hasta finales de año, se te añaden al balance final de tu cuenta de ahorros. Escribir un programa que comience leyendo la cantidad de dinero depositada en la cuenta de ahorros, introducida por el usuario. Después el programa debe calcular y mostrar por pantalla la cantidad de ahorros tras el primer, segundo y tercer años. Redondear cada cantidad a dos decimales."
   ]
  },
  {
   "cell_type": "code",
   "execution_count": 47,
   "metadata": {},
   "outputs": [
    {
     "name": "stdout",
     "output_type": "stream",
     "text": [
      "Ingresar cant de dinero depostiado100\n",
      "el primer año genero: 20.00\n",
      "el segundo año genero: 24.00\n",
      "el tercer año genero: 28.80\n"
     ]
    }
   ],
   "source": [
    "cantDineroDepositado=int(input(\"Ingresar cant de dinero depostiado\"))\n",
    "totalPrimerAño=cantDineroDepositado+(cantDineroDepositado*0.20)\n",
    "ahorroPrimerAño=cantDineroDepositado*0.20\n",
    "print(\"el primer año genero:\",\"{:.02f}\".format(ahorroPrimerAño))\n",
    "totalSegundoAño=totalPrimerAño+(totalPrimerAño*0.20)\n",
    "ahorroSegundoAño=totalPrimerAño*0.20\n",
    "print(\"el segundo año genero:\",\"{:.02f}\".format(ahorroSegundoAño))\n",
    "totalTercerAño=totalSegundoAño+(totalSegundoAño*0.20)\n",
    "ahorroTercerAño=totalSegundoAño*0.20\n",
    "print(\"el tercer año genero:\",\"{:.02f}\".format(ahorroTercerAño))"
   ]
  },
  {
   "cell_type": "markdown",
   "metadata": {},
   "source": [
    "## Ejercicio 14"
   ]
  },
  {
   "cell_type": "markdown",
   "metadata": {},
   "source": [
    "Una panadería vende tiras de pan a 50 \\$ cada una. El pan que no es el día tiene un descuento del 40 &#37; Escribir un programa que comience leyendo el número de tiras vendidas que no son del día. Después el programa debe mostrar el precio habitual de una tira de pan, el descuento que se le hace por no ser fresca y el costo final total."
   ]
  },
  {
   "cell_type": "code",
   "execution_count": 50,
   "metadata": {},
   "outputs": [
    {
     "name": "stdout",
     "output_type": "stream",
     "text": [
      "ingresar numero de tiras vendidas que no son del dia12\n",
      "el precio de una tira de pan es: 50\n",
      "el descuento q se le hace es de: 20.0\n",
      "el costo Final es: 30.0\n"
     ]
    }
   ],
   "source": [
    "numeroTirasVendidasNoDelDia=int(input(\"ingresar numero de tiras vendidas que no son del dia\"))\n",
    "valorPan=50\n",
    "descuento=valorPan*0.40\n",
    "print(\"el precio de una tira de pan es:\",valorPan)\n",
    "print(\"el descuento q se le hace es de:\",descuento)\n",
    "print(\"el costo Final es:\",valorPan-descuento)\n"
   ]
  },
  {
   "cell_type": "code",
   "execution_count": null,
   "metadata": {},
   "outputs": [],
   "source": []
  }
 ],
 "metadata": {
  "celltoolbar": "Raw Cell Format",
  "kernelspec": {
   "display_name": "Python 3",
   "language": "python",
   "name": "python3"
  },
  "language_info": {
   "codemirror_mode": {
    "name": "ipython",
    "version": 3
   },
   "file_extension": ".py",
   "mimetype": "text/x-python",
   "name": "python",
   "nbconvert_exporter": "python",
   "pygments_lexer": "ipython3",
   "version": "3.8.3"
  }
 },
 "nbformat": 4,
 "nbformat_minor": 2
}
