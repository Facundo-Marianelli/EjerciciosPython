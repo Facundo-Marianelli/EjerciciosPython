{
 "cells": [
  {
   "cell_type": "code",
   "execution_count": 4,
   "metadata": {},
   "outputs": [
    {
     "name": "stdout",
     "output_type": "stream",
     "text": [
      "Clase_X.metodo1()\n",
      "Clase_A1.metodo2()\n",
      "Clase_A2.metodo3()\n",
      "Clase_A.metodo4()\n"
     ]
    }
   ],
   "source": [
    "class Clase_A(object):\n",
    "    def metodo1(self):\n",
    "        print(\"Clase_A.metodo1()\")\n",
    "    def metodo3(self):\n",
    "        print(\"Clase_A.metodo3()\")\n",
    "    def metodo4(self):\n",
    "        print(\"Clase_A.metodo4()\")\n",
    "class Clase_A1(Clase_A):\n",
    "    def metodo1(self):\n",
    "        print(\"Clase_A1.metodo1()\")\n",
    "    def metodo2(self):\n",
    "        print(\"Clase_A1.metodo2()\")\n",
    "class Clase_A2(Clase_A):\n",
    "    def metodo1(self):\n",
    "        print(\"Clase_A2.metodo1()\")\n",
    "    def metodo3(self):\n",
    "        print(\"Clase_A2.metodo3()\")\n",
    "class Clase_x(Clase_A1,Clase_A2):\n",
    "    def metodo1(self):\n",
    "        print(\"Clase_X.metodo1()\")\n",
    "objeto1=Clase_x()\n",
    "objeto1.metodo1()\n",
    "objeto1.metodo2()\n",
    "objeto1.metodo3()\n",
    "objeto1.metodo4()"
   ]
  },
  {
   "cell_type": "code",
   "execution_count": 13,
   "metadata": {},
   "outputs": [
    {
     "name": "stdout",
     "output_type": "stream",
     "text": [
      "Clase_LLL.__init__,Clase_L.__init__\n",
      "Clase_LLLL.__init__,(<class '__main__.Clase_LLL'>, <class '__main__.Clase_L'>, <class '__main__.Clase_LL'>, <class 'object'>)\n",
      "(<class '__main__.Clase_LLLL'>, <class '__main__.Clase_L'>, <class '__main__.Clase_LL'>, <class 'object'>)\n",
      "Clase_LLL.metodo1(),Clase_LL.__init__\n",
      "Clase_LLLL.metodo1(),Clase_LL.__init__\n",
      "1\n",
      "4\n",
      "3\n",
      "4\n"
     ]
    }
   ],
   "source": [
    "class Clase_L(object):\n",
    "    def __init__(self):\n",
    "        self.var1=1\n",
    "        print(\"Clase_L.__init__\")\n",
    "    def metodo1(self):\n",
    "        self.var2=1\n",
    "        print(\"Clase_LL.__init__\")\n",
    "class Clase_LL(object):\n",
    "    def __init__(self):\n",
    "        self.var1=2\n",
    "        print(\"clase_ll.__init__\")\n",
    "    def metodo1(self):\n",
    "        self.var=2\n",
    "class Clase_LLL(Clase_L,Clase_LL):\n",
    "    def __init__(self):\n",
    "        self.var1=3\n",
    "        print(\"Clase_LLL.__init__\",end=\",\")\n",
    "        super().__init__()\n",
    "    def metodo1(self):\n",
    "        print(\"Clase_LLL.metodo1()\",end=\",\")\n",
    "        super().metodo1()\n",
    "        self.var2=3\n",
    "class Clase_LLLL(Clase_L,Clase_LL):\n",
    "    def __init__(self):\n",
    "        self.var1=4\n",
    "        print(\"Clase_LLLL.__init__\",end=\",\")\n",
    "        super().__init__\n",
    "    def metodo1(self):\n",
    "        print(\"Clase_LLLL.metodo1()\",end=\",\")\n",
    "        super().metodo1()\n",
    "        self.var2=4\n",
    "objeto1=Clase_LLL()\n",
    "objeto2=Clase_LLLL()\n",
    "print(Clase_LLL.__mro__)\n",
    "print(Clase_LLLL.__mro__)\n",
    "objeto1.metodo1()\n",
    "objeto2.metodo1()\n",
    "print(objeto1.var1)\n",
    "print(objeto2.var1)\n",
    "print(objeto1.var2)\n",
    "print(objeto2.var2)"
   ]
  },
  {
   "cell_type": "code",
   "execution_count": 8,
   "metadata": {
    "collapsed": true
   },
   "outputs": [
    {
     "ename": "NameError",
     "evalue": "name 'Clase_LLLL' is not defined",
     "output_type": "error",
     "traceback": [
      "\u001b[1;31m---------------------------------------------------------------------------\u001b[0m",
      "\u001b[1;31mNameError\u001b[0m                                 Traceback (most recent call last)",
      "\u001b[1;32m<ipython-input-8-c9ff5af92d5a>\u001b[0m in \u001b[0;36m<module>\u001b[1;34m\u001b[0m\n\u001b[1;32m----> 1\u001b[1;33m \u001b[0mprint\u001b[0m\u001b[1;33m(\u001b[0m\u001b[0mClase_LLLL\u001b[0m\u001b[1;33m.\u001b[0m\u001b[0m__mro__\u001b[0m\u001b[1;33m)\u001b[0m\u001b[1;33m\u001b[0m\u001b[1;33m\u001b[0m\u001b[0m\n\u001b[0m",
      "\u001b[1;31mNameError\u001b[0m: name 'Clase_LLLL' is not defined"
     ]
    }
   ],
   "source": []
  },
  {
   "cell_type": "code",
   "execution_count": null,
   "metadata": {},
   "outputs": [],
   "source": []
  },
  {
   "cell_type": "code",
   "execution_count": null,
   "metadata": {},
   "outputs": [],
   "source": []
  }
 ],
 "metadata": {
  "kernelspec": {
   "display_name": "Python 3",
   "language": "python",
   "name": "python3"
  },
  "language_info": {
   "codemirror_mode": {
    "name": "ipython",
    "version": 3
   },
   "file_extension": ".py",
   "mimetype": "text/x-python",
   "name": "python",
   "nbconvert_exporter": "python",
   "pygments_lexer": "ipython3",
   "version": "3.8.3"
  }
 },
 "nbformat": 4,
 "nbformat_minor": 4
}
