{
 "cells": [
  {
   "cell_type": "markdown",
   "metadata": {},
   "source": [
    "# Ejercicios de Condicionales"
   ]
  },
  {
   "cell_type": "markdown",
   "metadata": {},
   "source": [
    "## Ejercicio 1"
   ]
  },
  {
   "cell_type": "markdown",
   "metadata": {},
   "source": [
    "Escribir un programa que pregunte al usuario su edad y muestre por pantalla si es mayor de edad o no."
   ]
  },
  {
   "cell_type": "code",
   "execution_count": 2,
   "metadata": {},
   "outputs": [
    {
     "name": "stdout",
     "output_type": "stream",
     "text": [
      "ingrese su edad15\n",
      "no es mayor de edad\n"
     ]
    }
   ],
   "source": [
    "edad=int(input(\"ingrese su edad\"))\n",
    "if edad>18:\n",
    "    print(\"es mayor de edad\")\n",
    "else:\n",
    "    print(\"no es mayor de edad\")"
   ]
  },
  {
   "cell_type": "markdown",
   "metadata": {},
   "source": [
    "## Ejercicio 2"
   ]
  },
  {
   "cell_type": "markdown",
   "metadata": {},
   "source": [
    "Escribir un programa que almacene la cadena de caracteres <font color=#B40431>contraseña</font> en una variable, pregunte al usuario por la contraseña e imprima por pantalla si la contraseña introducida por el usuario coincide con la guardada en la variable sin tener en cuenta mayúsculas y minúsculas."
   ]
  },
  {
   "cell_type": "code",
   "execution_count": 3,
   "metadata": {},
   "outputs": [
    {
     "name": "stdout",
     "output_type": "stream",
     "text": [
      "Ingresar contraseña12\n",
      "contraseña incorrecta\n"
     ]
    }
   ],
   "source": [
    "contraseña=\"12345\"\n",
    "contraseñaIngresada=int(input(\"Ingresar contraseña\"))\n",
    "if(contraseñaIngresada==contraseña):\n",
    "    print(\"la contraseña son coincidentes\")\n",
    "else:\n",
    "    print(\"contraseña incorrecta\")"
   ]
  },
  {
   "cell_type": "markdown",
   "metadata": {},
   "source": [
    "## Ejercicio 3"
   ]
  },
  {
   "cell_type": "markdown",
   "metadata": {},
   "source": [
    "Escribir un programa que pida al usuario dos números y muestre por pantalla su división. Si el divisor es cero el programa debe mostrar un error."
   ]
  },
  {
   "cell_type": "code",
   "execution_count": 6,
   "metadata": {},
   "outputs": [
    {
     "name": "stdout",
     "output_type": "stream",
     "text": [
      "Ingresar primer numero13\n",
      "Ingresar segundo numero2\n",
      "la division es : 6.5\n"
     ]
    }
   ],
   "source": [
    "numero1=int(input(\"Ingresar primer numero\"))\n",
    "numero2=int(input(\"Ingresar segundo numero\"))\n",
    "\n",
    "if numero2==0:\n",
    "    print(\"error\")\n",
    "else:\n",
    "    resultado=numero1/numero2\n",
    "    print(\"la division es :\",resultado)\n"
   ]
  },
  {
   "cell_type": "markdown",
   "metadata": {},
   "source": [
    "## Ejercicio 4"
   ]
  },
  {
   "cell_type": "markdown",
   "metadata": {},
   "source": [
    "Escribir un programa que pida al usuario un número entero y muestre por pantalla si es par o impar."
   ]
  },
  {
   "cell_type": "code",
   "execution_count": null,
   "metadata": {},
   "outputs": [],
   "source": [
    "numero=int(input(\"ingresar numero\"))\n",
    "if numero%"
   ]
  },
  {
   "cell_type": "markdown",
   "metadata": {},
   "source": [
    "## Ejercicio 5"
   ]
  },
  {
   "cell_type": "markdown",
   "metadata": {},
   "source": [
    "Para aplicar un determinado impuesto se debe ser mayor de 16 años y tener unos ingresos iguales o superiores a 10000 $ mensuales. Escribir un programa que pregunte al usuario su edad y sus ingresos mensuales y muestre por pantalla si el usuario tiene que pagar o no."
   ]
  },
  {
   "cell_type": "code",
   "execution_count": 8,
   "metadata": {},
   "outputs": [
    {
     "name": "stdout",
     "output_type": "stream",
     "text": [
      "Ingresar edad17\n",
      "ingresar ingresos mensuales90000\n",
      "el usuario debe pagar el impuesto\n"
     ]
    }
   ],
   "source": [
    "edad=int(input(\"Ingresar edad\"))\n",
    "ingresosMensuales=int(input(\"ingresar ingresos mensuales\"))\n",
    "if edad>16 and ingresosMensuales>=10000:\n",
    "    print(\"el usuario debe pagar el impuesto\")\n",
    "else:\n",
    "    print(\"el usuario no debe pagar\")"
   ]
  },
  {
   "cell_type": "markdown",
   "metadata": {},
   "source": [
    "## Ejercicio 6"
   ]
  },
  {
   "cell_type": "markdown",
   "metadata": {},
   "source": [
    "Los alumnos de un curso se han dividido en dos grupos A y B de acuerdo al sexo y el nombre. El grupo A esta formado por las mujeres con un nombre anterior a la M y los hombres con un nombre posterior a la N y el grupo B por el resto. Escribir un programa que pregunte al usuario su nombre y sexo, y muestre por pantalla el grupo que le corresponde."
   ]
  },
  {
   "cell_type": "code",
   "execution_count": null,
   "metadata": {},
   "outputs": [],
   "source": [
    "nombreUsuario=input(\"Ingresar nombre del usuario\")\n",
    "sexo=input(\"ingresar sexo\")\n",
    "valorReferencia=nombreUsuario[0]\n",
    "if valorReferencia<\"M\" and sexo==\"f\":\n",
    "    print(\"le corresponde el grupo A\")\n",
    "elif (valorReferencia>\"M\" and sexo==\"f\"):\n",
    "    print(\"le corresponde el grupo B\")\n",
    "elif valorReferencia>\"N\" and sexo==\"m\":\n",
    "    print(\"Le corresponde el grupo A\")\n",
    "elif valorReferencia<\"N\" and sexo==\"m\":\n",
    "    print(\"le corresponde el grupo B\")\n",
    "    "
   ]
  },
  {
   "cell_type": "markdown",
   "metadata": {},
   "source": [
    "## Ejercicio 7"
   ]
  },
  {
   "cell_type": "markdown",
   "metadata": {},
   "source": [
    "Las franjas impositivas para la declaración de la renta en un determinado país son los siguientes:\n",
    "<table>\n",
    "<thead>\n",
    "<tr>\n",
    "<th style=\"text-align:center\">Renta en &#36;</th>\n",
    "<th style=\"text-align:center\">Impuesto </th>\n",
    "</tr>\n",
    "</thead>\n",
    "<tbody>\n",
    "<tr>\n",
    "<td style=\"text-align:center\">Menos de 10000</td>\n",
    "<td style=\"text-align:center\">5&#37; </td>\n",
    "</tr>\n",
    "<tr>\n",
    "<td style=\"text-align:center\">Entre 10000 y 20000</td>\n",
    "<td style=\"text-align:center\">15&#37;</td>\n",
    "</tr>\n",
    "<tr>\n",
    "<td style=\"text-align:center\">Entre 200000 y 35000 </td>\n",
    "<td style=\"text-align:center\">20&#37;</td>\n",
    "</tr>\n",
    "<tr>\n",
    "<td style=\"text-align:center\">Entre 350000 y 60000</td>\n",
    "<td style=\"text-align:center\">30&#37;</td>\n",
    "</tr>\n",
    "<tr>\n",
    "<td style=\"text-align:center\">Más de 60000</td>\n",
    "<td style=\"text-align:center\">45&#37;</td>\n",
    "</tr>\n",
    "</tbody>\n",
    "</table>\n",
    "Escribir un programa que pregunte al usuario su renta anual y muestre por pantalla el tipo impositivo que le corresponde."
   ]
  },
  {
   "cell_type": "code",
   "execution_count": null,
   "metadata": {},
   "outputs": [],
   "source": [
    "rentaAnual=int(input(\"ingresar renta anual\"))\n",
    "if rentaAnual<10000:\n",
    "    print(\"le corresponde un 5% de tipo impositivo\")\n",
    "elif rentaAnual>=10000 and rentaAnual<20000:\n",
    "    print(\"le correspode un 15% de tipo impositivo\")\n",
    "elif rentaAnual>=20000 and rentaAnual <35000:\n",
    "    print(\"le corresponde un 20% de tipo impositivo\")\n",
    "elif rentaAnual>= 35000 and rentaAnual<60000:\n",
    "    print(\"le corresponde un 30% de tipo impositivo\")\n",
    "elif rentaAnual>60000:\n",
    "    print(\"le corresponde un 45% de tipo impositivo\")"
   ]
  },
  {
   "cell_type": "markdown",
   "metadata": {},
   "source": [
    "## Ejercicio 8"
   ]
  },
  {
   "cell_type": "markdown",
   "metadata": {},
   "source": [
    "En una determinada empresa, sus empleados son evaluados al final de cada año. Los puntos que pueden obtener en la evaluación comienzan en 0.0 y pueden ir aumentando, traduciéndose en mejores beneficios. Los puntos que pueden conseguir los empleados pueden ser 0.0, 0.4, 0.6 o más, pero no valores intermedios entre las cifras mencionadas. A continuación se muestra una tabla con los niveles correspondientes a cada puntuación. La cantidad de dinero conseguida en cada nivel es de 2500 $ multiplicada por la puntuación del nivel.\n",
    "\n",
    "<table>\n",
    "<thead>\n",
    "<tr>\n",
    "<th style=\"text-align:center\">Nivel</th>\n",
    "<th style=\"text-align:center\">Puntuación</th>\n",
    "</tr>\n",
    "</thead>\n",
    "<tbody>\n",
    "<tr>\n",
    "<td style=\"text-align:center\">Inaceptable</td>\n",
    "<td style=\"text-align:center\">0.0</td>\n",
    "</tr>\n",
    "<tr>\n",
    "<td style=\"text-align:center\">Aceptable</td>\n",
    "<td style=\"text-align:center\">0.4</td>\n",
    "</tr>\n",
    "<tr>\n",
    "<td style=\"text-align:center\">Meritorio</td>\n",
    "<td style=\"text-align:center\">0.6 o más</td>\n",
    "</tr>\n",
    "</tbody>\n",
    "</table>\n",
    "\n",
    "\n",
    "Escribir un programa que lea la puntuación del usuario e indique su nivel de rendimiento, así como la cantidad de dinero que recibirá el usuario."
   ]
  },
  {
   "cell_type": "code",
   "execution_count": null,
   "metadata": {},
   "outputs": [],
   "source": [
    "puntuacionUsuario=int(input(\"ingresar puntuacion del usuario\"))\n",
    "if puntuacionUsuario===0:\n",
    "    print(\"Su nivel de rendimiento es Inaceptable\")\n",
    "elif puntuacionUs==0.4:\n",
    "    print(\"su nivel de rendimiento es Aceptable\")\n",
    "elif "
   ]
  },
  {
   "cell_type": "markdown",
   "metadata": {},
   "source": [
    "## Ejercicio 9"
   ]
  },
  {
   "cell_type": "markdown",
   "metadata": {},
   "source": [
    "Escribir un programa para una empresa que tiene salas de juegos para todas las edades y quiere calcular de forma automática el precio que debe cobrar a sus clientes por entrar. El programa debe preguntar al usuario la edad del cliente y mostrar el precio de la entrada. Si el cliente es menor de 4 años puede entrar gratis, si tiene entre 4 y 18 años debe pagar 50 pesos y si es mayor de 18 años, 100 pesos."
   ]
  },
  {
   "cell_type": "code",
   "execution_count": null,
   "metadata": {},
   "outputs": [],
   "source": []
  },
  {
   "cell_type": "markdown",
   "metadata": {},
   "source": [
    "## Ejercicio 10"
   ]
  },
  {
   "cell_type": "markdown",
   "metadata": {},
   "source": [
    "La pizzería Bella Napoli ofrece pizzas vegetarianas y no vegetarianas a sus clientes. Los ingredientes para cada tipo de pizza aparecen a continuación.\n",
    "\n",
    "<ul>\n",
    "<li>Ingredientes vegetarianos: Pimiento y tofu.</li>\n",
    "<li>Ingredientes no vegetarianos: Peperoni, Jamón y Salmón.</li>\n",
    "</ul>\n",
    "\n",
    "Escribir un programa que pregunte al usuario si quiere una pizza vegetariana o no, y en función de su respuesta le muestre un menú con los ingredientes disponibles para que elija. Solo se puede eligir un ingrediente además de la mozzarella y el tomate que están en todas la pizzas. Al final se debe mostrar por pantalla si la pizza elegida es vegetariana o no y todos los ingredientes que lleva."
   ]
  },
  {
   "cell_type": "code",
   "execution_count": null,
   "metadata": {},
   "outputs": [],
   "source": []
  }
 ],
 "metadata": {
  "kernelspec": {
   "display_name": "Python 3",
   "language": "python",
   "name": "python3"
  },
  "language_info": {
   "codemirror_mode": {
    "name": "ipython",
    "version": 3
   },
   "file_extension": ".py",
   "mimetype": "text/x-python",
   "name": "python",
   "nbconvert_exporter": "python",
   "pygments_lexer": "ipython3",
   "version": "3.8.3"
  }
 },
 "nbformat": 4,
 "nbformat_minor": 2
}
